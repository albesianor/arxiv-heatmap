{
 "cells": [
  {
   "cell_type": "markdown",
   "id": "85d25a77",
   "metadata": {},
   "source": [
    "# arXiv heatmap\n",
    "## Summary\n",
    "### Goal\n",
    "Analyze the connections between arXiv categories.\n",
    "\n",
    "**Ultimate goal.** Create a forecasting algorithm for arXiv categories.\n",
    "\n",
    "### Final output\n",
    "A sequence of graphs, indexed by date.\n",
    "- The nodes in each graph are the papers in each category, the size of the node is the size of the category, the color represents the trend.\n",
    "- The edges are the shared papers, the thickness of the edge is the number of shared papers, the color is the trend.\n",
    "\n",
    "### Data representation\n",
    "A correlation-like matrix: the non-diagonal entries are the shared papers, the diagonal entries are the non-shared papers.  A separate array for total papers (don't sum to total in the matrix because of duplicates).\n",
    "\n",
    "## Implementation\n",
    "### Dataset\n",
    "The arXiv dataset is downloadable from [Kaggle](https://www.kaggle.com/datasets/Cornell-University/arxiv/data).  The file is 4.62 GB uncompressed (`json`): filtering everything but `id`, `update_date`, and `categories` reduces the data to a manageable 24.4 MB `parquet` file.\n",
    "\n",
    "The `categories` entry is a single string, listing the categories with a white space in between.  A list of all categories can be found in `data/arxiv-categories.json`: might want to convert into a list.\n",
    "\n",
    "#### Storage\n",
    "Use `parquet` for storage for the moment.  Might use Delta Lake for day-to-day operation (especially looking forward at the forecasting part).\n",
    "\n",
    "### Data processing\n",
    "Read through the stripped table, creating a list of correlation matrices and an array of totals.\n",
    "\n",
    "### Data analysis\n",
    "This I still have to figure out.  Might get more clear after the data science boot camp.\n",
    "\n",
    "### Data visualization\n",
    "Also this needs to be figured out.  The `igraph` library might be useful, together with `matplotlib`, for the moment.  In a future implementation, might improve visualization, but need to learn more.  Also need to learn more for eventual website production (LATER)."
   ]
  },
  {
   "cell_type": "markdown",
   "id": "d969f982",
   "metadata": {},
   "source": [
    "# Playground"
   ]
  },
  {
   "cell_type": "markdown",
   "id": "4a31cc76",
   "metadata": {},
   "source": [
    "## Cleaning data"
   ]
  },
  {
   "cell_type": "code",
   "execution_count": 1,
   "id": "7935cf31",
   "metadata": {},
   "outputs": [],
   "source": [
    "import pandas as pd"
   ]
  },
  {
   "cell_type": "code",
   "execution_count": null,
   "id": "c9f4e9fd",
   "metadata": {},
   "outputs": [],
   "source": [
    "df = pd.read_json(\"arxiv-metadata-oai-snapshot.json\", lines=True)"
   ]
  },
  {
   "cell_type": "code",
   "execution_count": null,
   "id": "e660038b",
   "metadata": {},
   "outputs": [],
   "source": [
    "df.sample(1)"
   ]
  },
  {
   "cell_type": "code",
   "execution_count": null,
   "id": "3fd8a6b8",
   "metadata": {},
   "outputs": [],
   "source": [
    "noabstract_df = df.drop(columns=['abstract'])"
   ]
  },
  {
   "cell_type": "code",
   "execution_count": null,
   "id": "2533a620",
   "metadata": {},
   "outputs": [],
   "source": [
    "noabstract_df.to_parquet('data/arxiv-metadata-noabstract.parquet')"
   ]
  },
  {
   "cell_type": "code",
   "execution_count": null,
   "id": "305ade7b",
   "metadata": {},
   "outputs": [],
   "source": [
    "strip_df = noabstract_df[['id', 'update_date', 'categories']]"
   ]
  },
  {
   "cell_type": "code",
   "execution_count": null,
   "id": "6115e0f2",
   "metadata": {},
   "outputs": [],
   "source": [
    "strip_df.loc[1]"
   ]
  },
  {
   "cell_type": "code",
   "execution_count": null,
   "id": "337f42a2",
   "metadata": {},
   "outputs": [],
   "source": [
    "strip_df.to_json('data/arxiv-metadata-id-date-categories.json')"
   ]
  },
  {
   "cell_type": "code",
   "execution_count": null,
   "id": "3ded885a",
   "metadata": {},
   "outputs": [],
   "source": [
    "strip_df.to_parquet('data/arxiv-metadata-id-date-categories.parquet')"
   ]
  },
  {
   "cell_type": "markdown",
   "id": "1c8ee61d",
   "metadata": {},
   "source": [
    "## Creating the correlation tables, indexed by date"
   ]
  },
  {
   "cell_type": "markdown",
   "id": "811153e9",
   "metadata": {},
   "source": [
    "First we convert the `update_date` column to `datetime`."
   ]
  },
  {
   "cell_type": "code",
   "execution_count": null,
   "id": "1f525842",
   "metadata": {},
   "outputs": [],
   "source": [
    "strip_df['update_date'] = pd.to_datetime(strip_df['update_date'])"
   ]
  },
  {
   "cell_type": "markdown",
   "id": "03ace4ab",
   "metadata": {},
   "source": [
    "We also need to collect the labels for the arXiv categories."
   ]
  },
  {
   "cell_type": "code",
   "execution_count": null,
   "id": "295f2834",
   "metadata": {},
   "outputs": [],
   "source": [
    "categories_db = pd.read_json('data/arxiv-categories.json')\n",
    "categories_db"
   ]
  },
  {
   "cell_type": "markdown",
   "id": "9b17d779",
   "metadata": {},
   "source": [
    "Now we transform the column of categories (`str`) into a column of lists containing the categories."
   ]
  },
  {
   "cell_type": "code",
   "execution_count": null,
   "id": "abff13fe",
   "metadata": {},
   "outputs": [],
   "source": [
    "strip_df['categories'] = strip_df['categories'].apply((lambda s : s.split()))"
   ]
  },
  {
   "cell_type": "code",
   "execution_count": null,
   "id": "9a8faf95",
   "metadata": {},
   "outputs": [],
   "source": [
    "strip_df"
   ]
  },
  {
   "cell_type": "code",
   "execution_count": null,
   "id": "56c65853",
   "metadata": {},
   "outputs": [],
   "source": [
    "strip_df.head()"
   ]
  },
  {
   "cell_type": "code",
   "execution_count": null,
   "id": "13a57afc",
   "metadata": {},
   "outputs": [],
   "source": [
    "strip_df.to_parquet('data/arxiv-metadata-id-date-categories.parquet')"
   ]
  },
  {
   "cell_type": "code",
   "execution_count": null,
   "id": "cac0733d",
   "metadata": {},
   "outputs": [],
   "source": [
    "strip_df['categories']"
   ]
  },
  {
   "cell_type": "markdown",
   "id": "bde2a217",
   "metadata": {},
   "source": [
    "We import the stripped data as `arxiv_metadata`."
   ]
  },
  {
   "cell_type": "code",
   "execution_count": null,
   "id": "3748e159",
   "metadata": {},
   "outputs": [],
   "source": [
    "arxiv_metadata = pd.read_parquet('data/arxiv-metadata-id-date-categories.parquet')"
   ]
  },
  {
   "cell_type": "markdown",
   "id": "b4b65e98",
   "metadata": {},
   "source": [
    "Finally, we traverse `arxiv_metadata` and produce a new dataframe (possibly indexed by `update_date`) with entries given by the \"correlation\" matrices.  We also create another dataframe containing the total publications.\n",
    "\n",
    "We need to do something like this\n",
    "```\n",
    "create new dataframe\n",
    "for each row in strip_df:\n",
    "    if there is no row with that date in new dataframe:\n",
    "        create new row\n",
    "    add to the date row according to the categories present in the row\n",
    "```\n",
    "\n",
    "**Note.** This probably is not the most efficient way of traversing the dataframe.  I need to understand `.group_by()` better.  I also need to understand how to index by `datetime`."
   ]
  },
  {
   "cell_type": "markdown",
   "id": "322f52e1",
   "metadata": {},
   "source": [
    "We create a list of all edges in the arXiv graph."
   ]
  },
  {
   "cell_type": "code",
   "execution_count": null,
   "id": "3a5205a8",
   "metadata": {},
   "outputs": [],
   "source": [
    "from itertools import combinations\n",
    "import json\n",
    "\n",
    "with open('data/arxiv-categories.json', 'r') as f:\n",
    "    arxiv_categories_descriptions = json.load(f)\n",
    "\n",
    "arxiv_categories = [cat['tag'] for cat in arxiv_categories_descriptions]\n",
    "arxiv_categories_combinations = list(combinations(arxiv_categories, 2))"
   ]
  },
  {
   "cell_type": "code",
   "execution_count": 51,
   "id": "1257940d",
   "metadata": {},
   "outputs": [],
   "source": [
    "graph_edges = {index: 0 for index in arxiv_categories_combinations}"
   ]
  },
  {
   "cell_type": "markdown",
   "id": "9c231600",
   "metadata": {},
   "source": [
    "We create a new generator `arxiv_snapshot`: each `yield` is a `dict` containing the date and the cross-listings.\n",
    "\n",
    "We group the entries of `arxiv_metadata` by date and iterate through the groups to populate `arxiv_snapshot`."
   ]
  },
  {
   "cell_type": "code",
   "execution_count": null,
   "metadata": {},
   "outputs": [
    {
     "name": "stdout",
     "output_type": "stream",
     "text": [
      "2007-05-23 00:00:00\n",
      "           id update_date                                         categories\n",
      "3   0704.0004  2007-05-23                                          [math.CO]\n",
      "9   0704.0010  2007-05-23                                          [math.CO]\n",
      "11  0704.0012  2007-05-23                                          [math.NT]\n",
      "17  0704.0018  2007-05-23                                           [hep-th]\n",
      "33  0704.0034  2007-05-23                     [q-bio.PE, q-bio.CB, quant-ph]\n",
      "36  0704.0037  2007-05-23                  [physics.optics, physics.comp-ph]\n",
      "48  0704.0049  2007-05-23                                          [math.CO]\n",
      "49  0704.0050  2007-05-23                                     [cs.NE, cs.AI]\n",
      "51  0704.0052  2007-05-23                                           [hep-th]\n",
      "60  0704.0061  2007-05-23                                          [math.FA]\n",
      "65  0704.0066  2007-05-23                                           [hep-th]\n",
      "70  0704.0071  2007-05-23                                   [physics.soc-ph]\n",
      "71  0704.0072  2007-05-23                                 [math-ph, math.MP]\n",
      "76  0704.0077  2007-05-23                                   [physics.gen-ph]\n",
      "78  0704.0079  2007-05-23                                          [math.OA]\n",
      "80  0704.0081  2007-05-23       [math.QA, hep-th, math-ph, math.MP, math.RT]\n",
      "87  0704.0088  2007-05-23                                   [physics.optics]\n",
      "88  0704.0089  2007-05-23                  [physics.data-an, physics.gen-ph]\n",
      "89  0704.0090  2007-05-23  [cs.CE, cond-mat.stat-mech, cs.MS, cs.NA, phys...\n",
      "93  0704.0094  2007-05-23                                         [astro-ph]\n",
      "95  0704.0096  2007-05-23                                          [nlin.SI]\n",
      "96  0704.0097  2007-05-23                        [math-ph, math.MP, math.OA]\n",
      "98  0704.0099  2007-05-23                                          [math.FA]\n",
      "\n",
      "2007-05-30 00:00:00\n",
      "           id update_date categories\n",
      "23  0704.0024  2007-05-30  [nlin.PS]\n",
      "\n",
      "2007-06-09 00:00:00\n",
      "           id update_date           categories\n",
      "66  0704.0067  2007-06-09  [cond-mat.mtrl-sci]\n",
      "\n",
      "2007-06-13 00:00:00\n",
      "           id update_date          categories\n",
      "67  0704.0068  2007-06-13  [math.NT, math.CV]\n",
      "86  0704.0087  2007-06-13           [math.DG]\n",
      "\n",
      "2007-06-23 00:00:00\n",
      "           id update_date          categories\n",
      "18  0704.0019  2007-06-23  [math.PR, math.AG]\n",
      "\n",
      "2007-07-24 00:00:00\n",
      "           id update_date                            categories\n",
      "20  0704.0021  2007-07-24  [nlin.PS, physics.chem-ph, q-bio.MN]\n",
      "\n",
      "2007-08-22 00:00:00\n",
      "           id update_date categories\n",
      "73  0704.0074  2007-08-22  [math.RA]\n",
      "\n",
      "2007-09-23 00:00:00\n",
      "           id update_date          categories\n",
      "44  0704.0045  2007-09-23  [nlin.PS, nlin.SI]\n",
      "\n",
      "2007-10-16 00:00:00\n",
      "           id update_date categories\n",
      "21  0704.0022  2007-10-16  [math.NA]\n",
      "\n",
      "2007-11-19 00:00:00\n",
      "           id update_date                               categories\n",
      "42  0704.0043  2007-11-19  [cond-mat.stat-mech, cond-mat.mtrl-sci]\n",
      "\n",
      "2007-11-22 00:00:00\n",
      "           id update_date categories\n",
      "25  0704.0026  2007-11-22  [math.RA]\n",
      "\n",
      "2008-01-13 00:00:00\n",
      "          id update_date        categories\n",
      "2  0704.0003  2008-01-13  [physics.gen-ph]\n",
      "\n",
      "2008-01-16 00:00:00\n",
      "           id update_date                            categories\n",
      "92  0704.0093  2008-01-16  [cond-mat.supr-con, cond-mat.str-el]\n",
      "\n",
      "2008-01-19 00:00:00\n",
      "           id update_date           categories\n",
      "69  0704.0070  2008-01-19  [cond-mat.mes-hall]\n",
      "\n",
      "2008-03-12 00:00:00\n",
      "           id update_date categories\n",
      "62  0704.0063  2008-03-12   [hep-ph]\n",
      "\n",
      "2008-05-14 00:00:00\n",
      "           id update_date                 categories\n",
      "50  0704.0051  2008-05-14  [physics.ed-ph, quant-ph]\n",
      "\n",
      "2008-05-26 00:00:00\n",
      "           id update_date categories\n",
      "12  0704.0013  2008-05-26  [math.NT]\n",
      "\n",
      "2008-06-17 00:00:00\n",
      "           id update_date categories\n",
      "85  0704.0086  2008-06-17  [math.PR]\n",
      "\n",
      "2008-07-29 00:00:00\n",
      "           id update_date                         categories\n",
      "34  0704.0035  2008-07-29  [physics.optics, physics.comp-ph]\n",
      "\n",
      "2008-08-20 00:00:00\n",
      "           id update_date          categories\n",
      "10  0704.0011  2008-08-20  [math.NT, math.AG]\n",
      "\n",
      "2008-09-05 00:00:00\n",
      "           id update_date          categories\n",
      "39  0704.0040  2008-09-05  [math.OA, math.FA]\n",
      "\n",
      "2008-11-26 00:00:00\n",
      "           id update_date                  categories\n",
      "0   0704.0001  2008-11-26                    [hep-ph]\n",
      "6   0704.0007  2008-11-26                     [gr-qc]\n",
      "30  0704.0031  2008-11-26                    [hep-ph]\n",
      "31  0704.0032  2008-11-26                    [hep-ph]\n",
      "38  0704.0039  2008-11-26  [hep-ph, hep-lat, nucl-th]\n",
      "47  0704.0048  2008-11-26           [gr-qc, astro-ph]\n",
      "59  0704.0060  2008-11-26                   [nucl-th]\n",
      "63  0704.0064  2008-11-26                    [hep-th]\n",
      "74  0704.0075  2008-11-26   [hep-ph, hep-ex, nucl-ex]\n",
      "75  0704.0076  2008-11-26            [hep-ph, hep-ex]\n",
      "77  0704.0078  2008-11-26                     [gr-qc]\n",
      "82  0704.0083  2008-11-26                    [hep-th]\n",
      "91  0704.0092  2008-11-26           [hep-lat, hep-ph]\n",
      "99  0704.0100  2008-11-26                     [gr-qc]\n",
      "\n",
      "2008-12-13 00:00:00\n",
      "          id update_date        categories\n",
      "1  0704.0002  2008-12-13  [math.CO, cs.CG]\n",
      "\n",
      "2008-12-18 00:00:00\n",
      "           id update_date categories\n",
      "15  0704.0016  2008-12-18   [hep-ph]\n",
      "\n",
      "2009-02-05 00:00:00\n",
      "          id update_date           categories\n",
      "7  0704.0008  2009-02-05  [cond-mat.mtrl-sci]\n",
      "\n",
      "2009-04-20 00:00:00\n",
      "           id update_date        categories\n",
      "52  0704.0053  2009-04-20  [math.DG, gr-qc]\n",
      "\n",
      "2009-06-03 00:00:00\n",
      "           id update_date          categories\n",
      "64  0704.0065  2009-06-03  [math.AG, math.CO]\n",
      "\n",
      "2009-06-23 00:00:00\n",
      "           id update_date  categories\n",
      "16  0704.0017  2009-06-23  [astro-ph]\n",
      "22  0704.0023  2009-06-23  [astro-ph]\n",
      "58  0704.0059  2009-06-23  [astro-ph]\n",
      "\n",
      "2009-07-07 00:00:00\n",
      "           id update_date categories\n",
      "90  0704.0091  2009-07-07  [math.GR]\n",
      "\n",
      "2009-09-24 00:00:00\n",
      "           id update_date           categories\n",
      "26  0704.0027  2009-09-24  [cond-mat.mes-hall]\n",
      "\n",
      "2009-09-29 00:00:00\n",
      "           id update_date          categories\n",
      "13  0704.0014  2009-09-29  [math.CA, math.AT]\n",
      "46  0704.0047  2009-09-29      [cs.NE, cs.AI]\n",
      "\n",
      "2009-11-13 00:00:00\n",
      "           id update_date                                 categories\n",
      "14  0704.0015  2009-11-13                                   [hep-th]\n",
      "40  0704.0041  2009-11-13                [math.QA, math-ph, math.MP]\n",
      "45  0704.0046  2009-11-13                 [quant-ph, cs.IT, math.IT]\n",
      "54  0704.0055  2009-11-13         [cond-mat.soft, cond-mat.mtrl-sci]\n",
      "55  0704.0056  2009-11-13         [cond-mat.soft, cond-mat.mtrl-sci]\n",
      "56  0704.0057  2009-11-13                          [cond-mat.str-el]\n",
      "81  0704.0082  2009-11-13       [cond-mat.other, cond-mat.stat-mech]\n",
      "83  0704.0084  2009-11-13  [cond-mat.soft, nlin.PS, physics.flu-dyn]\n",
      "84  0704.0085  2009-11-13                                   [hep-th]\n",
      "97  0704.0098  2009-11-13                           [cs.IT, math.IT]\n",
      "\n",
      "2010-01-08 00:00:00\n",
      "           id update_date categories\n",
      "68  0704.0069  2010-01-08  [math.DS]\n",
      "\n",
      "2010-01-25 00:00:00\n",
      "           id update_date categories\n",
      "61  0704.0062  2010-01-25    [cs.DS]\n",
      "\n",
      "2010-03-18 00:00:00\n",
      "          id update_date  categories\n",
      "8  0704.0009  2010-03-18  [astro-ph]\n",
      "\n",
      "2010-04-23 00:00:00\n",
      "           id update_date categories\n",
      "28  0704.0029  2010-04-23   [hep-ph]\n",
      "\n",
      "2010-04-26 00:00:00\n",
      "           id update_date                  categories\n",
      "41  0704.0042  2010-04-26  [physics.gen-ph, quant-ph]\n",
      "\n",
      "2010-11-11 00:00:00\n",
      "           id update_date  categories\n",
      "79  0704.0080  2010-11-11  [astro-ph]\n",
      "\n",
      "2011-11-09 00:00:00\n",
      "           id update_date            categories\n",
      "35  0704.0036  2011-11-09  [q-bio.QM, q-bio.MN]\n",
      "\n",
      "2012-03-06 00:00:00\n",
      "           id update_date categories\n",
      "72  0704.0073  2012-03-06  [math.AG]\n",
      "\n",
      "2012-04-11 00:00:00\n",
      "           id update_date          categories\n",
      "94  0704.0095  2012-04-11  [math.GR, math.DG]\n",
      "\n",
      "2013-10-15 00:00:00\n",
      "           id update_date          categories\n",
      "4   0704.0005  2013-10-15  [math.CA, math.FA]\n",
      "53  0704.0054  2013-10-15  [math.CA, math.FA]\n",
      "\n",
      "2014-07-31 00:00:00\n",
      "           id update_date          categories\n",
      "27  0704.0028  2014-07-31  [math.CA, math.PR]\n",
      "\n",
      "2015-05-13 00:00:00\n",
      "           id update_date                                         categories\n",
      "5   0704.0006  2015-05-13                                [cond-mat.mes-hall]\n",
      "24  0704.0025  2015-05-13              [cond-mat.str-el, cond-mat.stat-mech]\n",
      "29  0704.0030  2015-05-13                                  [cond-mat.str-el]\n",
      "43  0704.0044  2015-05-13  [astro-ph, nlin.CD, physics.plasm-ph, physics....\n",
      "57  0704.0058  2015-05-13                                   [physics.pop-ph]\n",
      "\n",
      "2015-06-30 00:00:00\n",
      "           id update_date categories\n",
      "19  0704.0020  2015-06-30   [hep-ex]\n",
      "\n",
      "2022-03-30 00:00:00\n",
      "           id update_date                         categories\n",
      "37  0704.0038  2022-03-30  [physics.optics, physics.comp-ph]\n",
      "\n",
      "2022-03-31 00:00:00\n",
      "           id update_date                         categories\n",
      "32  0704.0033  2022-03-31  [physics.optics, physics.comp-ph]\n",
      "\n"
     ]
    }
   ],
   "source": [
    "import copy\n",
    "\n",
    "def arxiv_snapshot():\n",
    "    for date, group in arxiv_metadata.head(100).groupby('update_date'):\n",
    "        print(date)\n",
    "        print(group)\n",
    "        print()\n",
    "\n",
    "arxiv_snapshot()"
   ]
  },
  {
   "cell_type": "code",
   "execution_count": null,
   "id": "5e77d312",
   "metadata": {},
   "outputs": [
    {
     "name": "stdout",
     "output_type": "stream",
     "text": [
      "2008-11-26 00:00:00\n",
      "hep-ph\n",
      "\n",
      "2008-12-13 00:00:00\n",
      "math.CO\n",
      "cs.CG\n",
      "\n",
      "2008-01-13 00:00:00\n",
      "physics.gen-ph\n",
      "\n",
      "2007-05-23 00:00:00\n",
      "math.CO\n",
      "\n",
      "2013-10-15 00:00:00\n",
      "math.CA\n",
      "math.FA\n",
      "\n"
     ]
    }
   ],
   "source": [
    "for index, row in arxiv_metadata.head().iterrows():\n",
    "    print(row.update_date)\n",
    "    for category in row.categories:\n",
    "        print(category)\n",
    "    print()"
   ]
  },
  {
   "cell_type": "code",
   "execution_count": null,
   "id": "1209b617",
   "metadata": {},
   "outputs": [],
   "source": []
  }
 ],
 "metadata": {
  "kernelspec": {
   "display_name": "Python 3",
   "language": "python",
   "name": "python3"
  },
  "language_info": {
   "codemirror_mode": {
    "name": "ipython",
    "version": 3
   },
   "file_extension": ".py",
   "mimetype": "text/x-python",
   "name": "python",
   "nbconvert_exporter": "python",
   "pygments_lexer": "ipython3",
   "version": "3.11.11"
  }
 },
 "nbformat": 4,
 "nbformat_minor": 5
}
