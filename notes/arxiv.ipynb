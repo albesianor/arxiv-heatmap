{
 "cells": [
  {
   "cell_type": "markdown",
   "id": "85d25a77",
   "metadata": {},
   "source": [
    "# arXiv heatmap\n",
    "## Summary\n",
    "### Goal\n",
    "Analyze the connections between arXiv categories.\n",
    "\n",
    "**Ultimate goal.** Create a forecasting algorithm for arXiv categories.\n",
    "\n",
    "### Final output\n",
    "A sequence of graphs, indexed by date.\n",
    "- The nodes in each graph are the papers in each category, the size of the node is the size of the category, the color represents the trend.\n",
    "- The edges are the shared papers, the thickness of the edge is the number of shared papers, the color is the trend.\n",
    "\n",
    "### Data representation\n",
    "A correlation-like matrix: the non-diagonal entries are the shared papers, the diagonal entries are the non-shared papers.  A separate array for total papers (don't sum to total in the matrix because of duplicates).\n",
    "\n",
    "## Implementation\n",
    "### Dataset\n",
    "The arXiv dataset is downloadable from [Kaggle](https://www.kaggle.com/datasets/Cornell-University/arxiv/data).  The file is 4.62 GB uncompressed (`json`): filtering everything but `id`, `update_date`, and `categories` reduces the data to a manageable 24.4 MB `parquet` file.\n",
    "\n",
    "The `categories` entry is a single string, listing the categories with a white space in between.  A list of all categories can be found in `data/arxiv-categories.json`: might want to convert into a list.\n",
    "\n",
    "#### Storage\n",
    "Use `parquet` for storage for the moment.  Might use Delta Lake for day-to-day operation (especially looking forward at the forecasting part).\n",
    "\n",
    "### Data processing\n",
    "Read through the stripped table, creating a list of correlation matrices and an array of totals.\n",
    "\n",
    "### Data analysis\n",
    "This I still have to figure out.  Might get more clear after the data science boot camp.\n",
    "\n",
    "### Data visualization\n",
    "Also this needs to be figured out.  The `igraph` library might be useful, together with `matplotlib`, for the moment.  In a future implementation, might improve visualization, but need to learn more.  Also need to learn more for eventual website production (LATER)."
   ]
  },
  {
   "cell_type": "markdown",
   "id": "d969f982",
   "metadata": {},
   "source": [
    "# Playground"
   ]
  },
  {
   "cell_type": "markdown",
   "id": "4a31cc76",
   "metadata": {},
   "source": [
    "## Cleaning data"
   ]
  },
  {
   "cell_type": "code",
   "execution_count": 3,
   "id": "7935cf31",
   "metadata": {},
   "outputs": [],
   "source": [
    "import pandas as pd"
   ]
  },
  {
   "cell_type": "code",
   "execution_count": null,
   "id": "c9f4e9fd",
   "metadata": {},
   "outputs": [],
   "source": [
    "df = pd.read_json(\"arxiv-metadata-oai-snapshot.json\", lines=True)"
   ]
  },
  {
   "cell_type": "code",
   "execution_count": null,
   "id": "e660038b",
   "metadata": {},
   "outputs": [],
   "source": [
    "df.sample(1)"
   ]
  },
  {
   "cell_type": "code",
   "execution_count": null,
   "id": "3fd8a6b8",
   "metadata": {},
   "outputs": [],
   "source": [
    "noabstract_df = df.drop(columns=['abstract'])"
   ]
  },
  {
   "cell_type": "code",
   "execution_count": null,
   "id": "2533a620",
   "metadata": {},
   "outputs": [],
   "source": [
    "noabstract_df.to_parquet('data/arxiv-metadata-noabstract.parquet')"
   ]
  },
  {
   "cell_type": "code",
   "execution_count": null,
   "id": "305ade7b",
   "metadata": {},
   "outputs": [],
   "source": [
    "strip_df = noabstract_df[['id', 'update_date', 'categories']]"
   ]
  },
  {
   "cell_type": "code",
   "execution_count": null,
   "id": "6115e0f2",
   "metadata": {},
   "outputs": [],
   "source": [
    "strip_df.loc[1]"
   ]
  },
  {
   "cell_type": "code",
   "execution_count": null,
   "id": "337f42a2",
   "metadata": {},
   "outputs": [],
   "source": [
    "strip_df.to_json('data/arxiv-metadata-id-date-categories.json')"
   ]
  },
  {
   "cell_type": "code",
   "execution_count": null,
   "id": "3ded885a",
   "metadata": {},
   "outputs": [],
   "source": [
    "strip_df.to_parquet('data/arxiv-metadata-id-date-categories.parquet')"
   ]
  },
  {
   "cell_type": "markdown",
   "id": "1c8ee61d",
   "metadata": {},
   "source": [
    "## Creating the correlation tables, indexed by date"
   ]
  },
  {
   "cell_type": "markdown",
   "id": "811153e9",
   "metadata": {},
   "source": [
    "First we convert the `update_date` column to `datetime`."
   ]
  },
  {
   "cell_type": "code",
   "execution_count": null,
   "id": "1f525842",
   "metadata": {},
   "outputs": [],
   "source": [
    "strip_df['update_date'] = pd.to_datetime(strip_df['update_date'])"
   ]
  },
  {
   "cell_type": "markdown",
   "id": "03ace4ab",
   "metadata": {},
   "source": [
    "We also need to collect the labels for the arXiv categories."
   ]
  },
  {
   "cell_type": "code",
   "execution_count": 4,
   "id": "295f2834",
   "metadata": {},
   "outputs": [
    {
     "data": {
      "text/html": [
       "<div>\n",
       "<style scoped>\n",
       "    .dataframe tbody tr th:only-of-type {\n",
       "        vertical-align: middle;\n",
       "    }\n",
       "\n",
       "    .dataframe tbody tr th {\n",
       "        vertical-align: top;\n",
       "    }\n",
       "\n",
       "    .dataframe thead th {\n",
       "        text-align: right;\n",
       "    }\n",
       "</style>\n",
       "<table border=\"1\" class=\"dataframe\">\n",
       "  <thead>\n",
       "    <tr style=\"text-align: right;\">\n",
       "      <th></th>\n",
       "      <th>tag</th>\n",
       "      <th>name</th>\n",
       "    </tr>\n",
       "  </thead>\n",
       "  <tbody>\n",
       "    <tr>\n",
       "      <th>0</th>\n",
       "      <td>cs.AI</td>\n",
       "      <td>Artificial Intelligence</td>\n",
       "    </tr>\n",
       "    <tr>\n",
       "      <th>1</th>\n",
       "      <td>cs.AR</td>\n",
       "      <td>Hardware Architecture</td>\n",
       "    </tr>\n",
       "    <tr>\n",
       "      <th>2</th>\n",
       "      <td>cs.CC</td>\n",
       "      <td>Computational Complexity</td>\n",
       "    </tr>\n",
       "    <tr>\n",
       "      <th>3</th>\n",
       "      <td>cs.CE</td>\n",
       "      <td>Computational Engineering, Finance, and Science</td>\n",
       "    </tr>\n",
       "    <tr>\n",
       "      <th>4</th>\n",
       "      <td>cs.CG</td>\n",
       "      <td>Computational Geometry</td>\n",
       "    </tr>\n",
       "    <tr>\n",
       "      <th>...</th>\n",
       "      <td>...</td>\n",
       "      <td>...</td>\n",
       "    </tr>\n",
       "    <tr>\n",
       "      <th>150</th>\n",
       "      <td>stat.CO</td>\n",
       "      <td>Computation</td>\n",
       "    </tr>\n",
       "    <tr>\n",
       "      <th>151</th>\n",
       "      <td>stat.ME</td>\n",
       "      <td>Methodology</td>\n",
       "    </tr>\n",
       "    <tr>\n",
       "      <th>152</th>\n",
       "      <td>stat.ML</td>\n",
       "      <td>Machine Learning</td>\n",
       "    </tr>\n",
       "    <tr>\n",
       "      <th>153</th>\n",
       "      <td>stat.OT</td>\n",
       "      <td>Other Statistics</td>\n",
       "    </tr>\n",
       "    <tr>\n",
       "      <th>154</th>\n",
       "      <td>stat.TH</td>\n",
       "      <td>Statistics Theory</td>\n",
       "    </tr>\n",
       "  </tbody>\n",
       "</table>\n",
       "<p>155 rows × 2 columns</p>\n",
       "</div>"
      ],
      "text/plain": [
       "         tag                                             name\n",
       "0      cs.AI                          Artificial Intelligence\n",
       "1      cs.AR                            Hardware Architecture\n",
       "2      cs.CC                         Computational Complexity\n",
       "3      cs.CE  Computational Engineering, Finance, and Science\n",
       "4      cs.CG                           Computational Geometry\n",
       "..       ...                                              ...\n",
       "150  stat.CO                                      Computation\n",
       "151  stat.ME                                      Methodology\n",
       "152  stat.ML                                 Machine Learning\n",
       "153  stat.OT                                 Other Statistics\n",
       "154  stat.TH                                Statistics Theory\n",
       "\n",
       "[155 rows x 2 columns]"
      ]
     },
     "execution_count": 4,
     "metadata": {},
     "output_type": "execute_result"
    }
   ],
   "source": [
    "categories_db = pd.read_json('../data/arxiv-categories.json')\n",
    "categories_db"
   ]
  },
  {
   "cell_type": "markdown",
   "id": "9b17d779",
   "metadata": {},
   "source": [
    "Now we transform the column of categories (`str`) into a column of lists containing the categories."
   ]
  },
  {
   "cell_type": "code",
   "execution_count": null,
   "id": "abff13fe",
   "metadata": {},
   "outputs": [],
   "source": [
    "strip_df['categories'] = strip_df['categories'].apply((lambda s : s.split()))"
   ]
  },
  {
   "cell_type": "code",
   "execution_count": null,
   "id": "9a8faf95",
   "metadata": {},
   "outputs": [],
   "source": [
    "strip_df"
   ]
  },
  {
   "cell_type": "code",
   "execution_count": null,
   "id": "56c65853",
   "metadata": {},
   "outputs": [],
   "source": [
    "strip_df.head()"
   ]
  },
  {
   "cell_type": "code",
   "execution_count": null,
   "id": "13a57afc",
   "metadata": {},
   "outputs": [],
   "source": [
    "strip_df.to_parquet('data/arxiv-metadata-id-date-categories.parquet')"
   ]
  },
  {
   "cell_type": "code",
   "execution_count": null,
   "id": "cac0733d",
   "metadata": {},
   "outputs": [],
   "source": [
    "strip_df['categories']"
   ]
  },
  {
   "cell_type": "markdown",
   "id": "bde2a217",
   "metadata": {},
   "source": [
    "We import the stripped data as `arxiv_metadata`."
   ]
  },
  {
   "cell_type": "code",
   "execution_count": 6,
   "id": "3748e159",
   "metadata": {},
   "outputs": [],
   "source": [
    "arxiv_metadata = pd.read_parquet('../data/arxiv-metadata-id-date-categories.parquet')"
   ]
  },
  {
   "cell_type": "code",
   "execution_count": 145,
   "id": "a0d8c85c",
   "metadata": {},
   "outputs": [
    {
     "data": {
      "text/html": [
       "<div>\n",
       "<style scoped>\n",
       "    .dataframe tbody tr th:only-of-type {\n",
       "        vertical-align: middle;\n",
       "    }\n",
       "\n",
       "    .dataframe tbody tr th {\n",
       "        vertical-align: top;\n",
       "    }\n",
       "\n",
       "    .dataframe thead th {\n",
       "        text-align: right;\n",
       "    }\n",
       "</style>\n",
       "<table border=\"1\" class=\"dataframe\">\n",
       "  <thead>\n",
       "    <tr style=\"text-align: right;\">\n",
       "      <th></th>\n",
       "      <th>id</th>\n",
       "      <th>update_date</th>\n",
       "      <th>categories</th>\n",
       "    </tr>\n",
       "  </thead>\n",
       "  <tbody>\n",
       "    <tr>\n",
       "      <th>0</th>\n",
       "      <td>0704.0001</td>\n",
       "      <td>2008-11-26</td>\n",
       "      <td>[hep-ph]</td>\n",
       "    </tr>\n",
       "    <tr>\n",
       "      <th>1</th>\n",
       "      <td>0704.0002</td>\n",
       "      <td>2008-12-13</td>\n",
       "      <td>[math.CO, cs.CG]</td>\n",
       "    </tr>\n",
       "    <tr>\n",
       "      <th>2</th>\n",
       "      <td>0704.0003</td>\n",
       "      <td>2008-01-13</td>\n",
       "      <td>[physics.gen-ph]</td>\n",
       "    </tr>\n",
       "    <tr>\n",
       "      <th>3</th>\n",
       "      <td>0704.0004</td>\n",
       "      <td>2007-05-23</td>\n",
       "      <td>[math.CO]</td>\n",
       "    </tr>\n",
       "    <tr>\n",
       "      <th>4</th>\n",
       "      <td>0704.0005</td>\n",
       "      <td>2013-10-15</td>\n",
       "      <td>[math.CA, math.FA]</td>\n",
       "    </tr>\n",
       "    <tr>\n",
       "      <th>...</th>\n",
       "      <td>...</td>\n",
       "      <td>...</td>\n",
       "      <td>...</td>\n",
       "    </tr>\n",
       "    <tr>\n",
       "      <th>2710801</th>\n",
       "      <td>supr-con/9608008</td>\n",
       "      <td>2009-10-30</td>\n",
       "      <td>[supr-con, cond-mat.supr-con]</td>\n",
       "    </tr>\n",
       "    <tr>\n",
       "      <th>2710802</th>\n",
       "      <td>supr-con/9609001</td>\n",
       "      <td>2016-11-18</td>\n",
       "      <td>[supr-con, cond-mat.supr-con]</td>\n",
       "    </tr>\n",
       "    <tr>\n",
       "      <th>2710803</th>\n",
       "      <td>supr-con/9609002</td>\n",
       "      <td>2009-10-30</td>\n",
       "      <td>[supr-con, cond-mat.supr-con]</td>\n",
       "    </tr>\n",
       "    <tr>\n",
       "      <th>2710804</th>\n",
       "      <td>supr-con/9609003</td>\n",
       "      <td>2009-10-30</td>\n",
       "      <td>[supr-con, cond-mat.supr-con]</td>\n",
       "    </tr>\n",
       "    <tr>\n",
       "      <th>2710805</th>\n",
       "      <td>supr-con/9609004</td>\n",
       "      <td>2009-10-30</td>\n",
       "      <td>[supr-con, cond-mat.supr-con]</td>\n",
       "    </tr>\n",
       "  </tbody>\n",
       "</table>\n",
       "<p>2710806 rows × 3 columns</p>\n",
       "</div>"
      ],
      "text/plain": [
       "                       id update_date                     categories\n",
       "0               0704.0001  2008-11-26                       [hep-ph]\n",
       "1               0704.0002  2008-12-13               [math.CO, cs.CG]\n",
       "2               0704.0003  2008-01-13               [physics.gen-ph]\n",
       "3               0704.0004  2007-05-23                      [math.CO]\n",
       "4               0704.0005  2013-10-15             [math.CA, math.FA]\n",
       "...                   ...         ...                            ...\n",
       "2710801  supr-con/9608008  2009-10-30  [supr-con, cond-mat.supr-con]\n",
       "2710802  supr-con/9609001  2016-11-18  [supr-con, cond-mat.supr-con]\n",
       "2710803  supr-con/9609002  2009-10-30  [supr-con, cond-mat.supr-con]\n",
       "2710804  supr-con/9609003  2009-10-30  [supr-con, cond-mat.supr-con]\n",
       "2710805  supr-con/9609004  2009-10-30  [supr-con, cond-mat.supr-con]\n",
       "\n",
       "[2710806 rows x 3 columns]"
      ]
     },
     "execution_count": 145,
     "metadata": {},
     "output_type": "execute_result"
    }
   ],
   "source": [
    "arxiv_metadata"
   ]
  },
  {
   "cell_type": "markdown",
   "id": "b4b65e98",
   "metadata": {},
   "source": [
    "Finally, we traverse `arxiv_metadata` and produce a new dataframe (possibly indexed by `update_date`) with entries given by the \"correlation\" matrices.  We also create another dataframe containing the total publications.\n",
    "\n",
    "We need to do something like this\n",
    "```\n",
    "create new dataframe\n",
    "for each row in strip_df:\n",
    "    if there is no row with that date in new dataframe:\n",
    "        create new row\n",
    "    add to the date row according to the categories present in the row\n",
    "```\n",
    "\n",
    "**Note.** This probably is not the most efficient way of traversing the dataframe.  I need to understand `.group_by()` better.  I also need to understand how to index by `datetime`."
   ]
  },
  {
   "cell_type": "markdown",
   "id": "322f52e1",
   "metadata": {},
   "source": [
    "We create a list of all edges in the arXiv graph."
   ]
  },
  {
   "cell_type": "code",
   "execution_count": 143,
   "id": "3a5205a8",
   "metadata": {},
   "outputs": [],
   "source": [
    "from itertools import combinations_with_replacement\n",
    "import json\n",
    "\n",
    "with open('../data/arxiv-categories.json', 'r') as f:\n",
    "    arxiv_categories_descriptions = json.load(f)\n",
    "\n",
    "arxiv_categories = [cat['tag'] for cat in arxiv_categories_descriptions]\n",
    "arxiv_categories_combinations = list(combinations_with_replacement(arxiv_categories, 2))"
   ]
  },
  {
   "cell_type": "code",
   "execution_count": 144,
   "id": "1257940d",
   "metadata": {},
   "outputs": [],
   "source": [
    "graph_edges = {tuple(sorted(index)): 0 for index in arxiv_categories_combinations}"
   ]
  },
  {
   "cell_type": "markdown",
   "id": "ca729aa4",
   "metadata": {},
   "source": [
    "The arXiv categories changed over the years.  Below we find all categories that are not the current ones."
   ]
  },
  {
   "cell_type": "code",
   "execution_count": 146,
   "id": "56dc1acb",
   "metadata": {},
   "outputs": [],
   "source": [
    "missing_categories = set()\n",
    "\n",
    "for index, row in arxiv_metadata.iterrows():\n",
    "    for category in row['categories']:\n",
    "        if category not in arxiv_categories:\n",
    "            missing_categories.add(category)"
   ]
  },
  {
   "cell_type": "code",
   "execution_count": 147,
   "id": "8f30199b",
   "metadata": {},
   "outputs": [
    {
     "data": {
      "text/plain": [
       "{'acc-phys',\n",
       " 'adap-org',\n",
       " 'alg-geom',\n",
       " 'ao-sci',\n",
       " 'astro-ph',\n",
       " 'atom-ph',\n",
       " 'bayes-an',\n",
       " 'chao-dyn',\n",
       " 'chem-ph',\n",
       " 'cmp-lg',\n",
       " 'comp-gas',\n",
       " 'cond-mat',\n",
       " 'dg-ga',\n",
       " 'funct-an',\n",
       " 'mtrl-th',\n",
       " 'patt-sol',\n",
       " 'plasm-ph',\n",
       " 'q-alg',\n",
       " 'q-bio',\n",
       " 'solv-int',\n",
       " 'supr-con'}"
      ]
     },
     "execution_count": 147,
     "metadata": {},
     "output_type": "execute_result"
    }
   ],
   "source": [
    "missing_categories"
   ]
  },
  {
   "cell_type": "markdown",
   "id": "9c231600",
   "metadata": {},
   "source": [
    "We create a new generator `arxiv_snapshot`: each `yield` is a `dict` containing the date and the cross-listings.\n",
    "\n",
    "We group the entries of `arxiv_metadata` by date and iterate through the groups to populate `arxiv_snapshot`."
   ]
  },
  {
   "cell_type": "code",
   "execution_count": 137,
   "metadata": {},
   "outputs": [],
   "source": [
    "import copy\n",
    "\n",
    "def arxiv_snapshot():\n",
    "    for date, group in arxiv_metadata.groupby('update_date'):\n",
    "        graph_edges['date'] = date\n",
    "        for index, row in group.iterrows():\n",
    "            if len(row.categories) == 1:\n",
    "                key = list(combinations_with_replacement(row.categories, 2))[0]\n",
    "                graph_edges[key] += 1\n",
    "            else:\n",
    "                for edge in combinations_with_replacement(row.categories, 2):\n",
    "                    graph_edges[tuple(sorted(edge))] += 1\n",
    "        yield copy.deepcopy(graph_edges)"
   ]
  },
  {
   "cell_type": "code",
   "execution_count": 138,
   "id": "79ceada6",
   "metadata": {},
   "outputs": [
    {
     "ename": "KeyError",
     "evalue": "('alg-geom', 'alg-geom')",
     "output_type": "error",
     "traceback": [
      "\u001b[31m---------------------------------------------------------------------------\u001b[39m",
      "\u001b[31mKeyError\u001b[39m                                  Traceback (most recent call last)",
      "\u001b[36mCell\u001b[39m\u001b[36m \u001b[39m\u001b[32mIn[138]\u001b[39m\u001b[32m, line 1\u001b[39m\n\u001b[32m----> \u001b[39m\u001b[32m1\u001b[39m df = \u001b[43mpd\u001b[49m\u001b[43m.\u001b[49m\u001b[43mDataFrame\u001b[49m\u001b[43m(\u001b[49m\u001b[43marxiv_snapshot\u001b[49m\u001b[43m(\u001b[49m\u001b[43m)\u001b[49m\u001b[43m)\u001b[49m\n\u001b[32m      2\u001b[39m df.set_index(\u001b[33m'\u001b[39m\u001b[33mdate\u001b[39m\u001b[33m'\u001b[39m)\n",
      "\u001b[36mFile \u001b[39m\u001b[32m~/Desktop/Coding/Projects/arxiv-heatmap/.conda/lib/python3.11/site-packages/pandas/core/frame.py:843\u001b[39m, in \u001b[36mDataFrame.__init__\u001b[39m\u001b[34m(self, data, index, columns, dtype, copy)\u001b[39m\n\u001b[32m    841\u001b[39m         data = np.asarray(data)\n\u001b[32m    842\u001b[39m     \u001b[38;5;28;01melse\u001b[39;00m:\n\u001b[32m--> \u001b[39m\u001b[32m843\u001b[39m         data = \u001b[38;5;28;43mlist\u001b[39;49m\u001b[43m(\u001b[49m\u001b[43mdata\u001b[49m\u001b[43m)\u001b[49m\n\u001b[32m    844\u001b[39m \u001b[38;5;28;01mif\u001b[39;00m \u001b[38;5;28mlen\u001b[39m(data) > \u001b[32m0\u001b[39m:\n\u001b[32m    845\u001b[39m     \u001b[38;5;28;01mif\u001b[39;00m is_dataclass(data[\u001b[32m0\u001b[39m]):\n",
      "\u001b[36mCell\u001b[39m\u001b[36m \u001b[39m\u001b[32mIn[137]\u001b[39m\u001b[32m, line 12\u001b[39m, in \u001b[36marxiv_snapshot\u001b[39m\u001b[34m()\u001b[39m\n\u001b[32m     10\u001b[39m     \u001b[38;5;28;01melse\u001b[39;00m:\n\u001b[32m     11\u001b[39m         \u001b[38;5;28;01mfor\u001b[39;00m edge \u001b[38;5;129;01min\u001b[39;00m combinations_with_replacement(row.categories, \u001b[32m2\u001b[39m):\n\u001b[32m---> \u001b[39m\u001b[32m12\u001b[39m             \u001b[43mgraph_edges\u001b[49m\u001b[43m[\u001b[49m\u001b[38;5;28;43mtuple\u001b[39;49m\u001b[43m(\u001b[49m\u001b[38;5;28;43msorted\u001b[39;49m\u001b[43m(\u001b[49m\u001b[43medge\u001b[49m\u001b[43m)\u001b[49m\u001b[43m)\u001b[49m\u001b[43m]\u001b[49m += \u001b[32m1\u001b[39m\n\u001b[32m     13\u001b[39m \u001b[38;5;28;01myield\u001b[39;00m copy.deepcopy(graph_edges)\n",
      "\u001b[31mKeyError\u001b[39m: ('alg-geom', 'alg-geom')"
     ]
    }
   ],
   "source": [
    "df = pd.DataFrame(arxiv_snapshot())\n",
    "df.set_index('date')"
   ]
  }
 ],
 "metadata": {
  "kernelspec": {
   "display_name": ".conda",
   "language": "python",
   "name": "python3"
  },
  "language_info": {
   "codemirror_mode": {
    "name": "ipython",
    "version": 3
   },
   "file_extension": ".py",
   "mimetype": "text/x-python",
   "name": "python",
   "nbconvert_exporter": "python",
   "pygments_lexer": "ipython3",
   "version": "3.11.11"
  }
 },
 "nbformat": 4,
 "nbformat_minor": 5
}
