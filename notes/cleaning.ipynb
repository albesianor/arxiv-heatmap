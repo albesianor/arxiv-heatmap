{
 "cells": [
  {
   "cell_type": "markdown",
   "id": "22549bc0",
   "metadata": {},
   "source": [
    "# arXiv heatmap\n",
    "### Data cleaning\n",
    "\n",
    "##### Starting point\n",
    "- the arXiv metadata stripped of all columns except for `id` (`string`), `update_date` (`datetime`), and `categories` (`list`): `data/arxiv-metadata-id-categories.parquet`\n",
    "- the list of all current categories: `data/arxiv-categories.json`\n",
    "\n",
    "##### End goal\n",
    "A cleaned metadata file `data/arxiv-metadata-cleaned.parquet` whose inconsistencies issues have been resolved."
   ]
  },
  {
   "cell_type": "markdown",
   "id": "2626dbf9",
   "metadata": {},
   "source": [
    "## The code"
   ]
  },
  {
   "cell_type": "code",
   "execution_count": 1,
   "id": "9f84df5c",
   "metadata": {},
   "outputs": [],
   "source": [
    "import pandas as pd"
   ]
  },
  {
   "cell_type": "markdown",
   "id": "b7f4c75b",
   "metadata": {},
   "source": [
    "### Cleaning"
   ]
  },
  {
   "cell_type": "markdown",
   "id": "63ce7b99",
   "metadata": {},
   "source": [
    "First we import the list of current arXiv category tags and store it in the list `arxiv_categories`."
   ]
  },
  {
   "cell_type": "code",
   "execution_count": 2,
   "id": "0e84da28",
   "metadata": {},
   "outputs": [],
   "source": [
    "import json\n",
    "\n",
    "with open('../data/arxiv-categories.json', 'r') as f:\n",
    "    arxiv_categories_descriptions = json.load(f)\n",
    "\n",
    "arxiv_categories = [cat['tag'] for cat in arxiv_categories_descriptions]"
   ]
  },
  {
   "cell_type": "markdown",
   "id": "90df65dc",
   "metadata": {},
   "source": [
    "Now we import the stripped data as `arxiv_metadata`."
   ]
  },
  {
   "cell_type": "code",
   "execution_count": 3,
   "id": "edf8a841",
   "metadata": {},
   "outputs": [],
   "source": [
    "arxiv_metadata = pd.read_parquet('../data/arxiv-metadata-id-date-categories.parquet')"
   ]
  },
  {
   "cell_type": "markdown",
   "id": "73904746",
   "metadata": {},
   "source": [
    "The arXiv categories changed over the years: we find all categories that are not the current ones and store them in the set `missing_categories`."
   ]
  },
  {
   "cell_type": "code",
   "execution_count": 4,
   "id": "214d84db",
   "metadata": {},
   "outputs": [
    {
     "name": "stdout",
     "output_type": "stream",
     "text": [
      "{'plasm-ph', 'dg-ga', 'cmp-lg', 'bayes-an', 'patt-sol', 'chem-ph', 'comp-gas', 'chao-dyn', 'astro-ph', 'q-alg', 'atom-ph', 'cond-mat', 'alg-geom', 'supr-con', 'funct-an', 'q-bio', 'adap-org', 'acc-phys', 'mtrl-th', 'ao-sci', 'solv-int'}\n"
     ]
    }
   ],
   "source": [
    "missing_categories = set()\n",
    "\n",
    "for index, row in arxiv_metadata.iterrows():\n",
    "    for category in row['categories']:\n",
    "        if category not in arxiv_categories:\n",
    "            missing_categories.add(category)\n",
    "\n",
    "print(missing_categories)"
   ]
  },
  {
   "cell_type": "markdown",
   "id": "5ee3d8e0",
   "metadata": {},
   "source": [
    "We need to decide what to do for each of the missing categories.  The most reasonable choice to me seems to find the closest matching current category and replace each missing category with that.\n",
    "\n",
    "| Old        |  New                | To add? |\n",
    "| ---------- | ------------------- | :-----: |\n",
    "| `mtrl-th`  | `cond-mat.mtrl-sci` |         |\n",
    "| `q-bio`    | ---                 | X       |\n",
    "| `acc-phys` | `physics.acc-ph`    |         |\n",
    "| `dg-ga`    | `math.DG`           |         |\n",
    "| `cond-mat` | ---                 | X       |\n",
    "| `chem-ph`  | `physics.chem-ph`   |         |\n",
    "| `astro-ph` | ---                 | X       |\n",
    "| `comp-gas` | `nlin.CG`           |         |\n",
    "| `funct-an` | `math.FA`           |         |\n",
    "| `patt-sol` | `nlin.PS`           |         |\n",
    "| `solv-int` | `nlin.SI`           |         |\n",
    "| `alg-geom` | `math.AG`           |         |\n",
    "| `adap-org` | `nlin.AO`           |         |\n",
    "| `supr-con` | `cond-mat.supr-con` |         |\n",
    "| `plasm-ph` | `physics.plasm-ph`  |         |\n",
    "| `chao-dyn` | `nlin.CD`           |         |\n",
    "| `bayes-an` | `physics.data-an`   |         |\n",
    "| `q-alg`    | `math.QA`           |         |\n",
    "| `ao-sci`   | `physics.ao-ph`     |         |\n",
    "| `atom-ph`  | `physics.atom-ph`   |         |\n",
    "| `cmp-lg`   | `cs.CL`             |         |"
   ]
  },
  {
   "cell_type": "markdown",
   "id": "9164d30b",
   "metadata": {},
   "source": [
    "The categories `q-bio`, `cond-mat`, and `astro-ph` have been over the years split into subcategories.  Hence, some preprints are classified into what are now meta-categories.  We add these three categories, and we will use them only for those preprints dating to before the splitting."
   ]
  },
  {
   "cell_type": "markdown",
   "id": "3b8daf74",
   "metadata": {},
   "source": [
    "The goal now is to go through `arxiv_metadata` again and replace the missing categories with the new ones.  We start by creating a dictionary `cat_dictionary` to map old categories to new categories, and a function `cat_translator` to translate a list of categories to the new ones using the dictionary (removing duplicates)."
   ]
  },
  {
   "cell_type": "code",
   "execution_count": 5,
   "id": "0bb19bb5",
   "metadata": {},
   "outputs": [],
   "source": [
    "cat_dictionary = {\n",
    "    'alg-geom': 'math.AG',\n",
    "    'dg-ga': 'math.DG',\n",
    "    'chem-ph': 'physics.chem-ph',\n",
    "    'plasm-ph': 'physics.plasm-ph',\n",
    "    'ao-sci': 'physics.ao-ph',\n",
    "    'mtrl-th': 'cond-mat.mtrl-sci',\n",
    "    'funct-an': 'math.FA',\n",
    "    'comp-gas': 'nlin.CG',\n",
    "    'q-alg': 'math.QA',\n",
    "    'acc-phys': 'physics.acc-ph',\n",
    "    'atom-ph': 'physics.atom-ph',\n",
    "    'supr-con': 'cond-mat.supr-con',\n",
    "    'chao-dyn': 'nlin.CD',\n",
    "    'bayes-an': 'physics.data-an',\n",
    "    'cmp-lg': 'cs.CL',\n",
    "    'patt-sol': 'nlin.PS',\n",
    "    'adap-org': 'nlin.AO',\n",
    "    'solv-int': 'nlin.SI'\n",
    "}\n",
    "\n",
    "def cat_translator(categories: 'list') -> 'list':\n",
    "    return sorted(set([cat_dictionary[cat] if cat in cat_dictionary else cat for cat in categories]))"
   ]
  },
  {
   "cell_type": "markdown",
   "id": "f9585468",
   "metadata": {},
   "source": [
    "Then we traverse the `categories` column in `arxiv_metadata` and use the dictionary `cat_translator` to update categories."
   ]
  },
  {
   "cell_type": "code",
   "execution_count": 6,
   "id": "4fe5fc54",
   "metadata": {},
   "outputs": [],
   "source": [
    "arxiv_metadata['categories'] = arxiv_metadata['categories'].apply(cat_translator)"
   ]
  },
  {
   "cell_type": "markdown",
   "id": "c5af52db",
   "metadata": {},
   "source": [
    "We save the new cleaned file to `data/arxiv-metadata-cleaned.parquet`."
   ]
  },
  {
   "cell_type": "code",
   "execution_count": 7,
   "id": "7b2d7b83",
   "metadata": {},
   "outputs": [],
   "source": [
    "arxiv_metadata.to_parquet('../data/arxiv-metadata-cleaned.parquet')"
   ]
  }
 ],
 "metadata": {
  "kernelspec": {
   "display_name": "Python 3",
   "language": "python",
   "name": "python3"
  },
  "language_info": {
   "codemirror_mode": {
    "name": "ipython",
    "version": 3
   },
   "file_extension": ".py",
   "mimetype": "text/x-python",
   "name": "python",
   "nbconvert_exporter": "python",
   "pygments_lexer": "ipython3",
   "version": "3.11.11"
  }
 },
 "nbformat": 4,
 "nbformat_minor": 5
}
