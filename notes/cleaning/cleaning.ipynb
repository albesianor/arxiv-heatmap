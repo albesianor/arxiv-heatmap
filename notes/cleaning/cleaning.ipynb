{
 "cells": [
  {
   "cell_type": "markdown",
   "id": "22549bc0",
   "metadata": {},
   "source": [
    "# arXiv heatmap\n",
    "### Data cleaning\n",
    "\n",
    "##### Starting point\n",
    "- the arXiv metadata from Kaggle (not in the repo because the file is too big) [should be refactored to use `kagglehub` instead]\n",
    "- the list of all current categories: `data/arxiv-categories.json`\n",
    "\n",
    "##### End goal\n",
    "A cleaned metadata file `data/arxiv-metadata-cleaned.parquet` whose inconsistencies issues have been resolved."
   ]
  },
  {
   "cell_type": "markdown",
   "id": "2626dbf9",
   "metadata": {},
   "source": [
    "## The code"
   ]
  },
  {
   "cell_type": "code",
   "execution_count": 1,
   "id": "9f84df5c",
   "metadata": {},
   "outputs": [],
   "source": [
    "import pandas as pd"
   ]
  },
  {
   "cell_type": "markdown",
   "id": "f4e2af98",
   "metadata": {},
   "source": [
    "### Pre-cleaning\n",
    "We begin by removing the unused data, to make the dataset lighter."
   ]
  },
  {
   "cell_type": "markdown",
   "id": "cf09e092",
   "metadata": {},
   "source": [
    "We start by dropping the abstracts only.  We save a copy of the dataset without abstracts to `data/arxiv-metadata-noabstract.parquet`."
   ]
  },
  {
   "cell_type": "code",
   "execution_count": null,
   "id": "5776460d",
   "metadata": {},
   "outputs": [],
   "source": [
    "arxiv_dataset = pd.read_json(\"../data/arxiv-metadata-oai-snapshot.json\", lines=True)\n",
    "arxiv_dataset.drop(columns=[\"abstract\"], inplace=True)\n",
    "arxiv_dataset.to_parquet(\"../../data/arxiv-metadata-noabstract.parquet\")"
   ]
  },
  {
   "cell_type": "code",
   "execution_count": null,
   "id": "d68bf047",
   "metadata": {},
   "outputs": [],
   "source": [
    "arxiv_dataset = pd.read_parquet(\"../../data/arxiv-metadata-noabstract.parquet\")"
   ]
  },
  {
   "cell_type": "markdown",
   "id": "e4d9ab3e",
   "metadata": {},
   "source": [
    "Then we extract the `id`, `versions`, and `categories` columns and save the new dataset to `data/arxiv-metadata-id-versions-categories.parquet`."
   ]
  },
  {
   "cell_type": "code",
   "execution_count": null,
   "id": "a0b1986d",
   "metadata": {},
   "outputs": [],
   "source": [
    "arxiv_stripped = arxiv_dataset[[\"id\", \"versions\", \"categories\"]]\n",
    "arxiv_stripped.to_parquet(\"../../data/arxiv-metadata-id-versions-categories.parquet\")"
   ]
  },
  {
   "cell_type": "markdown",
   "id": "b7f4c75b",
   "metadata": {},
   "source": [
    "### Cleaning"
   ]
  },
  {
   "cell_type": "markdown",
   "id": "9b3a03d9",
   "metadata": {},
   "source": [
    "#### Date of v1 extraction\n",
    "We use the date of v1 as reference points.  This is for several reasons:\n",
    "- `update_date` is not a reliable source since all papers got updated in May 2007, and thus does not record older dates\n",
    "- v1 is easy to extract from each entry in versions: `version[0]['created']`"
   ]
  },
  {
   "cell_type": "markdown",
   "id": "f568fb75",
   "metadata": {},
   "source": [
    "We begin by defining a function `date_extractor` that takes the list of versions and returns a `datetime` containing the first date appearing in the list (i.e. the date of v1)."
   ]
  },
  {
   "cell_type": "code",
   "execution_count": null,
   "id": "bbe9c78a",
   "metadata": {},
   "outputs": [],
   "source": [
    "import re\n",
    "from datetime import datetime\n",
    "\n",
    "pattern = re.compile(\n",
    "    r\"\\b(\\d{1,2})\\s(Jan|Feb|Mar|Apr|May|Jun|Jul|Aug|Sep|Oct|Nov|Dec)\\s(\\d{4})\\b\"\n",
    ")\n",
    "\n",
    "# Map 3-letter month names to numbers\n",
    "month_map = {\n",
    "    \"Jan\": 1,\n",
    "    \"Feb\": 2,\n",
    "    \"Mar\": 3,\n",
    "    \"Apr\": 4,\n",
    "    \"May\": 5,\n",
    "    \"Jun\": 6,\n",
    "    \"Jul\": 7,\n",
    "    \"Aug\": 8,\n",
    "    \"Sep\": 9,\n",
    "    \"Oct\": 10,\n",
    "    \"Nov\": 11,\n",
    "    \"Dec\": 12,\n",
    "}\n",
    "\n",
    "\n",
    "def date_extractor(versions: list) -> datetime:\n",
    "    matches = pattern.findall(versions[0][\"created\"])\n",
    "    day, month, year = matches[0]\n",
    "    try:\n",
    "        return datetime(int(year), month_map[month], int(day))\n",
    "    except ValueError as e:\n",
    "        print(f\"Invalid date: {day} {month} {year} - {e}\")"
   ]
  },
  {
   "cell_type": "markdown",
   "id": "e83340e2",
   "metadata": {},
   "source": [
    "Next, we create a new `date` column by applying `date_extractor` to the `versions` column."
   ]
  },
  {
   "cell_type": "code",
   "execution_count": null,
   "id": "fe43b3f3",
   "metadata": {},
   "outputs": [
    {
     "name": "stderr",
     "output_type": "stream",
     "text": [
      "/var/folders/bc/nlpbp2z15m5bs2w20xdp390ddkpfsf/T/ipykernel_28206/1387621045.py:1: SettingWithCopyWarning: \n",
      "A value is trying to be set on a copy of a slice from a DataFrame.\n",
      "Try using .loc[row_indexer,col_indexer] = value instead\n",
      "\n",
      "See the caveats in the documentation: https://pandas.pydata.org/pandas-docs/stable/user_guide/indexing.html#returning-a-view-versus-a-copy\n",
      "  arxiv_stripped['date'] = arxiv_stripped['versions'].apply(date_extractor)\n"
     ]
    }
   ],
   "source": [
    "arxiv_stripped[\"date\"] = arxiv_stripped[\"versions\"].apply(date_extractor)"
   ]
  },
  {
   "cell_type": "markdown",
   "id": "ee2531f0",
   "metadata": {},
   "source": [
    "Finally, we drop the `versions` column and save the new `arxiv_metadata` dataset to `data/arxiv-id-date-categories.parquet`."
   ]
  },
  {
   "cell_type": "code",
   "execution_count": null,
   "id": "ff00ccd5",
   "metadata": {},
   "outputs": [],
   "source": [
    "arxiv_metadata = arxiv_stripped.drop(columns=[\"versions\"])\n",
    "arxiv_metadata.to_parquet(\"../../data/arxiv-metadata-id-date-categories.parquet\")"
   ]
  },
  {
   "cell_type": "markdown",
   "id": "92b8543b",
   "metadata": {},
   "source": [
    "This is how our dataset looks now."
   ]
  },
  {
   "cell_type": "code",
   "execution_count": 7,
   "id": "bffae1f2",
   "metadata": {},
   "outputs": [
    {
     "data": {
      "text/html": [
       "<div>\n",
       "<style scoped>\n",
       "    .dataframe tbody tr th:only-of-type {\n",
       "        vertical-align: middle;\n",
       "    }\n",
       "\n",
       "    .dataframe tbody tr th {\n",
       "        vertical-align: top;\n",
       "    }\n",
       "\n",
       "    .dataframe thead th {\n",
       "        text-align: right;\n",
       "    }\n",
       "</style>\n",
       "<table border=\"1\" class=\"dataframe\">\n",
       "  <thead>\n",
       "    <tr style=\"text-align: right;\">\n",
       "      <th></th>\n",
       "      <th>id</th>\n",
       "      <th>categories</th>\n",
       "      <th>date</th>\n",
       "    </tr>\n",
       "  </thead>\n",
       "  <tbody>\n",
       "    <tr>\n",
       "      <th>0</th>\n",
       "      <td>0704.0001</td>\n",
       "      <td>hep-ph</td>\n",
       "      <td>2007-04-02</td>\n",
       "    </tr>\n",
       "    <tr>\n",
       "      <th>1</th>\n",
       "      <td>0704.0002</td>\n",
       "      <td>math.CO cs.CG</td>\n",
       "      <td>2007-03-31</td>\n",
       "    </tr>\n",
       "    <tr>\n",
       "      <th>2</th>\n",
       "      <td>0704.0003</td>\n",
       "      <td>physics.gen-ph</td>\n",
       "      <td>2007-04-01</td>\n",
       "    </tr>\n",
       "    <tr>\n",
       "      <th>3</th>\n",
       "      <td>0704.0004</td>\n",
       "      <td>math.CO</td>\n",
       "      <td>2007-03-31</td>\n",
       "    </tr>\n",
       "    <tr>\n",
       "      <th>4</th>\n",
       "      <td>0704.0005</td>\n",
       "      <td>math.CA math.FA</td>\n",
       "      <td>2007-04-02</td>\n",
       "    </tr>\n",
       "    <tr>\n",
       "      <th>...</th>\n",
       "      <td>...</td>\n",
       "      <td>...</td>\n",
       "      <td>...</td>\n",
       "    </tr>\n",
       "    <tr>\n",
       "      <th>2710801</th>\n",
       "      <td>supr-con/9608008</td>\n",
       "      <td>supr-con cond-mat.supr-con</td>\n",
       "      <td>1996-08-26</td>\n",
       "    </tr>\n",
       "    <tr>\n",
       "      <th>2710802</th>\n",
       "      <td>supr-con/9609001</td>\n",
       "      <td>supr-con cond-mat.supr-con</td>\n",
       "      <td>1996-08-31</td>\n",
       "    </tr>\n",
       "    <tr>\n",
       "      <th>2710803</th>\n",
       "      <td>supr-con/9609002</td>\n",
       "      <td>supr-con cond-mat.supr-con</td>\n",
       "      <td>1996-09-03</td>\n",
       "    </tr>\n",
       "    <tr>\n",
       "      <th>2710804</th>\n",
       "      <td>supr-con/9609003</td>\n",
       "      <td>supr-con cond-mat.supr-con</td>\n",
       "      <td>1996-09-18</td>\n",
       "    </tr>\n",
       "    <tr>\n",
       "      <th>2710805</th>\n",
       "      <td>supr-con/9609004</td>\n",
       "      <td>supr-con cond-mat.supr-con</td>\n",
       "      <td>1996-09-25</td>\n",
       "    </tr>\n",
       "  </tbody>\n",
       "</table>\n",
       "<p>2710806 rows × 3 columns</p>\n",
       "</div>"
      ],
      "text/plain": [
       "                       id                  categories       date\n",
       "0               0704.0001                      hep-ph 2007-04-02\n",
       "1               0704.0002               math.CO cs.CG 2007-03-31\n",
       "2               0704.0003              physics.gen-ph 2007-04-01\n",
       "3               0704.0004                     math.CO 2007-03-31\n",
       "4               0704.0005             math.CA math.FA 2007-04-02\n",
       "...                   ...                         ...        ...\n",
       "2710801  supr-con/9608008  supr-con cond-mat.supr-con 1996-08-26\n",
       "2710802  supr-con/9609001  supr-con cond-mat.supr-con 1996-08-31\n",
       "2710803  supr-con/9609002  supr-con cond-mat.supr-con 1996-09-03\n",
       "2710804  supr-con/9609003  supr-con cond-mat.supr-con 1996-09-18\n",
       "2710805  supr-con/9609004  supr-con cond-mat.supr-con 1996-09-25\n",
       "\n",
       "[2710806 rows x 3 columns]"
      ]
     },
     "execution_count": 7,
     "metadata": {},
     "output_type": "execute_result"
    }
   ],
   "source": [
    "arxiv_metadata"
   ]
  },
  {
   "cell_type": "markdown",
   "id": "a6447bce",
   "metadata": {},
   "source": [
    "#### Categories cleaning"
   ]
  },
  {
   "cell_type": "markdown",
   "id": "63ce7b99",
   "metadata": {},
   "source": [
    "First we import the list of current arXiv category tags and store it in the list `arxiv_categories`."
   ]
  },
  {
   "cell_type": "code",
   "execution_count": null,
   "id": "0e84da28",
   "metadata": {},
   "outputs": [],
   "source": [
    "import json\n",
    "\n",
    "with open(\"../data/arxiv-categories.json\", \"r\") as f:\n",
    "    arxiv_categories_descriptions = json.load(f)\n",
    "\n",
    "arxiv_categories = [cat[\"tag\"] for cat in arxiv_categories_descriptions]"
   ]
  },
  {
   "cell_type": "markdown",
   "id": "90df65dc",
   "metadata": {},
   "source": [
    "Now we import the stripped data as `arxiv_metadata`."
   ]
  },
  {
   "cell_type": "code",
   "execution_count": null,
   "id": "edf8a841",
   "metadata": {},
   "outputs": [],
   "source": [
    "arxiv_metadata = pd.read_parquet(\"../../data/arxiv-metadata-id-date-categories.parquet\")"
   ]
  },
  {
   "cell_type": "markdown",
   "id": "737b62e6",
   "metadata": {},
   "source": [
    "Categories are written as a simple string listing all categories separated by white spaces: we split them into a list of words (each word is one category)."
   ]
  },
  {
   "cell_type": "code",
   "execution_count": null,
   "id": "d8905d2e",
   "metadata": {},
   "outputs": [],
   "source": [
    "arxiv_metadata[\"categories\"] = arxiv_metadata[\"categories\"].apply((lambda s: s.split()))"
   ]
  },
  {
   "cell_type": "markdown",
   "id": "73904746",
   "metadata": {},
   "source": [
    "The arXiv categories changed over the years: we find all categories that are not the current ones and store them in the set `missing_categories`."
   ]
  },
  {
   "cell_type": "code",
   "execution_count": null,
   "id": "214d84db",
   "metadata": {},
   "outputs": [
    {
     "name": "stdout",
     "output_type": "stream",
     "text": [
      "{'funct-an', 'chao-dyn', 'ao-sci', 'acc-phys', 'astro-ph', 'q-bio', 'patt-sol', 'cond-mat', 'plasm-ph', 'adap-org', 'comp-gas', 'solv-int', 'q-alg', 'atom-ph', 'bayes-an', 'mtrl-th', 'cmp-lg', 'alg-geom', 'supr-con', 'dg-ga', 'chem-ph'}\n"
     ]
    }
   ],
   "source": [
    "missing_categories = set()\n",
    "\n",
    "for index, row in arxiv_metadata.iterrows():\n",
    "    for category in row[\"categories\"]:\n",
    "        if category not in arxiv_categories:\n",
    "            missing_categories.add(category)\n",
    "\n",
    "print(missing_categories)"
   ]
  },
  {
   "cell_type": "markdown",
   "id": "5ee3d8e0",
   "metadata": {},
   "source": [
    "We need to decide what to do for each of the missing categories.  The most reasonable choice to me seems to find the closest matching current category and replace each missing category with that.\n",
    "\n",
    "| Old        |  New                | To add? |\n",
    "| ---------- | ------------------- | :-----: |\n",
    "| `mtrl-th`  | `cond-mat.mtrl-sci` |         |\n",
    "| `q-bio`    | ---                 | X       |\n",
    "| `acc-phys` | `physics.acc-ph`    |         |\n",
    "| `dg-ga`    | `math.DG`           |         |\n",
    "| `cond-mat` | ---                 | X       |\n",
    "| `chem-ph`  | `physics.chem-ph`   |         |\n",
    "| `astro-ph` | ---                 | X       |\n",
    "| `comp-gas` | `nlin.CG`           |         |\n",
    "| `funct-an` | `math.FA`           |         |\n",
    "| `patt-sol` | `nlin.PS`           |         |\n",
    "| `solv-int` | `nlin.SI`           |         |\n",
    "| `alg-geom` | `math.AG`           |         |\n",
    "| `adap-org` | `nlin.AO`           |         |\n",
    "| `supr-con` | `cond-mat.supr-con` |         |\n",
    "| `plasm-ph` | `physics.plasm-ph`  |         |\n",
    "| `chao-dyn` | `nlin.CD`           |         |\n",
    "| `bayes-an` | `physics.data-an`   |         |\n",
    "| `q-alg`    | `math.QA`           |         |\n",
    "| `ao-sci`   | `physics.ao-ph`     |         |\n",
    "| `atom-ph`  | `physics.atom-ph`   |         |\n",
    "| `cmp-lg`   | `cs.CL`             |         |"
   ]
  },
  {
   "cell_type": "markdown",
   "id": "9164d30b",
   "metadata": {},
   "source": [
    "The categories `q-bio`, `cond-mat`, and `astro-ph` have been over the years split into subcategories.  Hence, some preprints are classified into what are now meta-categories.  We add these three categories, and we will use them only for those preprints dating to before the splitting."
   ]
  },
  {
   "cell_type": "markdown",
   "id": "3b8daf74",
   "metadata": {},
   "source": [
    "The goal now is to go through `arxiv_metadata` again and replace the missing categories with the new ones.  We start by creating a dictionary `cat_dictionary` to map old categories to new categories, and a function `translate` to translate a list of categories to the new ones using a given dictionary (removing duplicates)."
   ]
  },
  {
   "cell_type": "code",
   "execution_count": null,
   "id": "0bb19bb5",
   "metadata": {},
   "outputs": [],
   "source": [
    "cat_dictionary = {\n",
    "    \"alg-geom\": \"math.AG\",\n",
    "    \"dg-ga\": \"math.DG\",\n",
    "    \"chem-ph\": \"physics.chem-ph\",\n",
    "    \"plasm-ph\": \"physics.plasm-ph\",\n",
    "    \"ao-sci\": \"physics.ao-ph\",\n",
    "    \"mtrl-th\": \"cond-mat.mtrl-sci\",\n",
    "    \"funct-an\": \"math.FA\",\n",
    "    \"comp-gas\": \"nlin.CG\",\n",
    "    \"q-alg\": \"math.QA\",\n",
    "    \"acc-phys\": \"physics.acc-ph\",\n",
    "    \"atom-ph\": \"physics.atom-ph\",\n",
    "    \"supr-con\": \"cond-mat.supr-con\",\n",
    "    \"chao-dyn\": \"nlin.CD\",\n",
    "    \"bayes-an\": \"physics.data-an\",\n",
    "    \"cmp-lg\": \"cs.CL\",\n",
    "    \"patt-sol\": \"nlin.PS\",\n",
    "    \"adap-org\": \"nlin.AO\",\n",
    "    \"solv-int\": \"nlin.SI\",\n",
    "}\n",
    "\n",
    "\n",
    "def translate(categories: list, dictionary: dict) -> list:\n",
    "    return sorted(\n",
    "        set([dictionary[cat] if cat in dictionary else cat for cat in categories])\n",
    "    )"
   ]
  },
  {
   "cell_type": "markdown",
   "id": "f9585468",
   "metadata": {},
   "source": [
    "Then we traverse the `categories` column in `arxiv_metadata` and use the dictionary `cat_translator` to update categories."
   ]
  },
  {
   "cell_type": "code",
   "execution_count": null,
   "id": "4fe5fc54",
   "metadata": {},
   "outputs": [],
   "source": [
    "arxiv_metadata[\"categories\"] = arxiv_metadata[\"categories\"].apply(\n",
    "    lambda x: translate(x, cat_dictionary)\n",
    ")"
   ]
  },
  {
   "cell_type": "markdown",
   "id": "8ac3dbbd",
   "metadata": {},
   "source": [
    "Here is how the cleaned dataset looks like."
   ]
  },
  {
   "cell_type": "code",
   "execution_count": 14,
   "id": "e4c13869",
   "metadata": {},
   "outputs": [
    {
     "data": {
      "text/html": [
       "<div>\n",
       "<style scoped>\n",
       "    .dataframe tbody tr th:only-of-type {\n",
       "        vertical-align: middle;\n",
       "    }\n",
       "\n",
       "    .dataframe tbody tr th {\n",
       "        vertical-align: top;\n",
       "    }\n",
       "\n",
       "    .dataframe thead th {\n",
       "        text-align: right;\n",
       "    }\n",
       "</style>\n",
       "<table border=\"1\" class=\"dataframe\">\n",
       "  <thead>\n",
       "    <tr style=\"text-align: right;\">\n",
       "      <th></th>\n",
       "      <th>id</th>\n",
       "      <th>categories</th>\n",
       "      <th>date</th>\n",
       "    </tr>\n",
       "  </thead>\n",
       "  <tbody>\n",
       "    <tr>\n",
       "      <th>0</th>\n",
       "      <td>0704.0001</td>\n",
       "      <td>[hep-ph]</td>\n",
       "      <td>2007-04-02</td>\n",
       "    </tr>\n",
       "    <tr>\n",
       "      <th>1</th>\n",
       "      <td>0704.0002</td>\n",
       "      <td>[cs.CG, math.CO]</td>\n",
       "      <td>2007-03-31</td>\n",
       "    </tr>\n",
       "    <tr>\n",
       "      <th>2</th>\n",
       "      <td>0704.0003</td>\n",
       "      <td>[physics.gen-ph]</td>\n",
       "      <td>2007-04-01</td>\n",
       "    </tr>\n",
       "    <tr>\n",
       "      <th>3</th>\n",
       "      <td>0704.0004</td>\n",
       "      <td>[math.CO]</td>\n",
       "      <td>2007-03-31</td>\n",
       "    </tr>\n",
       "    <tr>\n",
       "      <th>4</th>\n",
       "      <td>0704.0005</td>\n",
       "      <td>[math.CA, math.FA]</td>\n",
       "      <td>2007-04-02</td>\n",
       "    </tr>\n",
       "    <tr>\n",
       "      <th>...</th>\n",
       "      <td>...</td>\n",
       "      <td>...</td>\n",
       "      <td>...</td>\n",
       "    </tr>\n",
       "    <tr>\n",
       "      <th>2710801</th>\n",
       "      <td>supr-con/9608008</td>\n",
       "      <td>[cond-mat.supr-con]</td>\n",
       "      <td>1996-08-26</td>\n",
       "    </tr>\n",
       "    <tr>\n",
       "      <th>2710802</th>\n",
       "      <td>supr-con/9609001</td>\n",
       "      <td>[cond-mat.supr-con]</td>\n",
       "      <td>1996-08-31</td>\n",
       "    </tr>\n",
       "    <tr>\n",
       "      <th>2710803</th>\n",
       "      <td>supr-con/9609002</td>\n",
       "      <td>[cond-mat.supr-con]</td>\n",
       "      <td>1996-09-03</td>\n",
       "    </tr>\n",
       "    <tr>\n",
       "      <th>2710804</th>\n",
       "      <td>supr-con/9609003</td>\n",
       "      <td>[cond-mat.supr-con]</td>\n",
       "      <td>1996-09-18</td>\n",
       "    </tr>\n",
       "    <tr>\n",
       "      <th>2710805</th>\n",
       "      <td>supr-con/9609004</td>\n",
       "      <td>[cond-mat.supr-con]</td>\n",
       "      <td>1996-09-25</td>\n",
       "    </tr>\n",
       "  </tbody>\n",
       "</table>\n",
       "<p>2710806 rows × 3 columns</p>\n",
       "</div>"
      ],
      "text/plain": [
       "                       id           categories       date\n",
       "0               0704.0001             [hep-ph] 2007-04-02\n",
       "1               0704.0002     [cs.CG, math.CO] 2007-03-31\n",
       "2               0704.0003     [physics.gen-ph] 2007-04-01\n",
       "3               0704.0004            [math.CO] 2007-03-31\n",
       "4               0704.0005   [math.CA, math.FA] 2007-04-02\n",
       "...                   ...                  ...        ...\n",
       "2710801  supr-con/9608008  [cond-mat.supr-con] 1996-08-26\n",
       "2710802  supr-con/9609001  [cond-mat.supr-con] 1996-08-31\n",
       "2710803  supr-con/9609002  [cond-mat.supr-con] 1996-09-03\n",
       "2710804  supr-con/9609003  [cond-mat.supr-con] 1996-09-18\n",
       "2710805  supr-con/9609004  [cond-mat.supr-con] 1996-09-25\n",
       "\n",
       "[2710806 rows x 3 columns]"
      ]
     },
     "execution_count": 14,
     "metadata": {},
     "output_type": "execute_result"
    }
   ],
   "source": [
    "arxiv_metadata"
   ]
  },
  {
   "cell_type": "markdown",
   "id": "c5af52db",
   "metadata": {},
   "source": [
    "We save the new cleaned file to `data/arxiv-metadata-cleaned.parquet`."
   ]
  },
  {
   "cell_type": "code",
   "execution_count": null,
   "id": "7b2d7b83",
   "metadata": {},
   "outputs": [],
   "source": [
    "arxiv_metadata.to_parquet(\"../../data/arxiv-metadata-cleaned.parquet\")"
   ]
  }
 ],
 "metadata": {
  "kernelspec": {
   "display_name": "arxiv-heatmaps",
   "language": "python",
   "name": "python3"
  },
  "language_info": {
   "codemirror_mode": {
    "name": "ipython",
    "version": 3
   },
   "file_extension": ".py",
   "mimetype": "text/x-python",
   "name": "python",
   "nbconvert_exporter": "python",
   "pygments_lexer": "ipython3",
   "version": "3.13.3"
  }
 },
 "nbformat": 4,
 "nbformat_minor": 5
}
