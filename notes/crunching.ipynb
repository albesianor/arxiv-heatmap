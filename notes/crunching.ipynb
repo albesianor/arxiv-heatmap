{
 "cells": [
  {
   "cell_type": "markdown",
   "id": "c5be00b9",
   "metadata": {},
   "source": [
    "# arXiv heatmap\n",
    "\n",
    "### Data crunching\n",
    "##### Starting point\n",
    "- the cleaned arXiv metadata: `data/arxiv-metadata-cleaned.parquet`\n",
    "- the list of all current categories: `data/arxiv-categories.json`\n",
    "\n",
    "##### End goal\n",
    "- a dataframe, indexed by `update_date`, of cross-listings\n",
    "- a dataframe, indexed by `update_date`, of total listings per category"
   ]
  },
  {
   "cell_type": "markdown",
   "id": "ae43a5f9",
   "metadata": {},
   "source": [
    "## The code"
   ]
  },
  {
   "cell_type": "code",
   "execution_count": 1,
   "id": "699b2cea",
   "metadata": {},
   "outputs": [],
   "source": [
    "import pandas as pd\n",
    "import json"
   ]
  },
  {
   "cell_type": "markdown",
   "id": "581fcfed",
   "metadata": {},
   "source": [
    "We start by importing the cleaned metadata from `data/arxiv-metadata-cleaned.parquet` to `arxiv_metadata`."
   ]
  },
  {
   "cell_type": "code",
   "execution_count": 2,
   "id": "eed85728",
   "metadata": {},
   "outputs": [],
   "source": [
    "arxiv_metadata = pd.read_parquet('../data/arxiv-metadata-cleaned.parquet')"
   ]
  },
  {
   "cell_type": "markdown",
   "id": "63e0efe3",
   "metadata": {},
   "source": [
    "We also create a list `graph_edges_keys` of tuples (with repetitions) of `arxiv_categories` (including the extra categories): they will be keys for a dictionary whose entries represent the daily entries in that cross-listing (the tuple with repetition are the papers listed in only one category)."
   ]
  },
  {
   "cell_type": "code",
   "execution_count": 3,
   "id": "65bfe8cf",
   "metadata": {},
   "outputs": [],
   "source": [
    "from itertools import combinations_with_replacement as cwr\n",
    "\n",
    "with open('../data/arxiv-categories.json', 'r') as f:\n",
    "    arxiv_categories_descriptions = json.load(f)\n",
    "\n",
    "arxiv_categories = sorted([cat['tag'] for cat in arxiv_categories_descriptions] + ['q-bio', 'cond-mat', 'astro-ph'])\n",
    "\n",
    "arxiv_categories_combinations = cwr(arxiv_categories, 2)\n",
    "\n",
    "# use sorted to make sure the tuples are in a consistent ordering\n",
    "graph_edges_keys = [tuple(sorted(index)) for index in arxiv_categories_combinations]"
   ]
  },
  {
   "cell_type": "markdown",
   "id": "953806f5",
   "metadata": {},
   "source": [
    "### Dataframe of cross-listings\n",
    "The goal of this section is to produce a new dataframe, indexed by `update_date` whose rows are the cross-listings.  We also want another dataframe containing the total daily publications in each category."
   ]
  },
  {
   "cell_type": "markdown",
   "id": "22288048",
   "metadata": {},
   "source": [
    "We begin by defining a function `take_snapshot` that takes a dataframe of listings for one day and returns a dictionary containing the cross listings."
   ]
  },
  {
   "cell_type": "code",
   "execution_count": 4,
   "id": "913c1335",
   "metadata": {},
   "outputs": [],
   "source": [
    "def take_snapshot(group: pd.Series) -> dict:\n",
    "    graph_edges = dict.fromkeys(graph_edges_keys, 0)\n",
    "    for entry in group:\n",
    "        for edge in cwr(entry, 2):\n",
    "            graph_edges[tuple(sorted(edge))] += 1\n",
    "    return graph_edges"
   ]
  },
  {
   "cell_type": "markdown",
   "id": "4d84e367",
   "metadata": {},
   "source": [
    "Now we create a dataframe `arxiv_snapshots` containing the daily snapshots of arXiv cross-listings.  The new dataframe is obtained by grouping `arxiv_metadata` by `update_date` and aggregating each group via the `take_snapshot` function."
   ]
  },
  {
   "cell_type": "markdown",
   "id": "1a0dda3a",
   "metadata": {},
   "source": [
    "We start by creating a dataframe `arxiv_snapshot` with dict entries in categories, representing the graph for the day."
   ]
  },
  {
   "cell_type": "code",
   "execution_count": 5,
   "id": "dbf987e2",
   "metadata": {},
   "outputs": [],
   "source": [
    "arxiv_snapshots = arxiv_metadata.drop(columns=['id']).groupby('update_date').agg({'categories': take_snapshot})"
   ]
  },
  {
   "cell_type": "markdown",
   "id": "69bf4b19",
   "metadata": {},
   "source": [
    "Next we reset the index of `arxiv_snapshot` so that the `update_date` becomes a column."
   ]
  },
  {
   "cell_type": "code",
   "execution_count": 6,
   "id": "d040f6f4",
   "metadata": {},
   "outputs": [],
   "source": [
    "arxiv_snapshots.reset_index(inplace=True)"
   ]
  },
  {
   "cell_type": "markdown",
   "id": "ac93ac40",
   "metadata": {},
   "source": [
    "Then we pop the `categories` column, we explode it into its components, and join it to `arxiv_snapshots`."
   ]
  },
  {
   "cell_type": "code",
   "execution_count": 7,
   "id": "31551151",
   "metadata": {},
   "outputs": [],
   "source": [
    "arxiv_snapshots = arxiv_snapshots.join(pd.DataFrame(arxiv_snapshots.pop('categories').tolist()))"
   ]
  },
  {
   "cell_type": "markdown",
   "id": "fc9d71a1",
   "metadata": {},
   "source": [
    "Finally, we re-index `arxiv_snapshots` to `update_date`."
   ]
  },
  {
   "cell_type": "code",
   "execution_count": 8,
   "id": "4578dc6a",
   "metadata": {},
   "outputs": [],
   "source": [
    "arxiv_snapshots.set_index('update_date', inplace=True)"
   ]
  },
  {
   "cell_type": "markdown",
   "id": "592f6365",
   "metadata": {},
   "source": [
    "Now we save the snapshots to `data/arxiv-snapshots.parquet`."
   ]
  },
  {
   "cell_type": "code",
   "execution_count": 9,
   "id": "1d7595e4",
   "metadata": {},
   "outputs": [
    {
     "name": "stderr",
     "output_type": "stream",
     "text": [
      "/Users/ralbesia/Desktop/Coding/Projects/arxiv-heatmap/.conda/lib/python3.11/site-packages/pandas/io/parquet.py:190: UserWarning: The DataFrame has column names of mixed type. They will be converted to strings and not roundtrip correctly.\n",
      "  table = self.api.Table.from_pandas(df, **from_pandas_kwargs)\n"
     ]
    }
   ],
   "source": [
    "arxiv_snapshots.to_parquet('../data/arxiv-snapshots.parquet')"
   ]
  },
  {
   "cell_type": "markdown",
   "id": "7e9bd373",
   "metadata": {},
   "source": [
    "**Note:** the first date in `arxiv_snapshots` seems to contain all entries before May 23, 2007.  We should drop it when we do the analysis."
   ]
  },
  {
   "cell_type": "markdown",
   "id": "c4a6da17",
   "metadata": {},
   "source": [
    "### Dataframe of totals\n",
    "The goal now is to produce another dataframe, indexed by `update_date`, containing the daily totals for each category."
   ]
  },
  {
   "cell_type": "markdown",
   "id": "050ebde3",
   "metadata": {},
   "source": [
    "We begin by defining a function `take_totals` that takes a dataframe of listings for one day and returns a dictionary containing the totals."
   ]
  },
  {
   "cell_type": "code",
   "execution_count": 10,
   "id": "1df2b873",
   "metadata": {},
   "outputs": [],
   "source": [
    "from itertools import chain\n",
    "from collections import Counter\n",
    "\n",
    "def take_totals(group: iter) -> dict:\n",
    "    \"\"\" Takes an iterable of iterables, returns a dictionary counting entries. \"\"\"\n",
    "    return Counter(chain.from_iterable(group))"
   ]
  },
  {
   "cell_type": "markdown",
   "id": "7cb7cbc1",
   "metadata": {},
   "source": [
    "We now create a dataframe `arxiv_totals`, with dict entries in categories representing the daily totals, by grouping `arxiv_metadata` by `update_date` and aggregating with `take_totals`."
   ]
  },
  {
   "cell_type": "code",
   "execution_count": 11,
   "id": "6f70eb96",
   "metadata": {},
   "outputs": [],
   "source": [
    "arxiv_totals = arxiv_metadata.drop(columns=['id']).groupby('update_date').agg({'categories': take_totals})"
   ]
  },
  {
   "cell_type": "markdown",
   "id": "bd3c19fa",
   "metadata": {},
   "source": [
    "As before, we reset the index of `arxiv_totals` so that the `update_date` becomes a column."
   ]
  },
  {
   "cell_type": "code",
   "execution_count": 12,
   "id": "db808c8a",
   "metadata": {},
   "outputs": [],
   "source": [
    "arxiv_totals.reset_index(inplace=True)"
   ]
  },
  {
   "cell_type": "markdown",
   "id": "600b0ab4",
   "metadata": {},
   "source": [
    "Then we pop the `categories` column, we explode it into its components, and join it to `arxiv_totals`."
   ]
  },
  {
   "cell_type": "code",
   "execution_count": 13,
   "id": "e408579c",
   "metadata": {},
   "outputs": [],
   "source": [
    "arxiv_totals = arxiv_totals.join(pd.DataFrame(arxiv_totals.pop('categories').tolist()))"
   ]
  },
  {
   "cell_type": "markdown",
   "id": "be9db61f",
   "metadata": {},
   "source": [
    "If there is no posting in a category we get `NaN`: we replace them with 0."
   ]
  },
  {
   "cell_type": "code",
   "execution_count": 14,
   "id": "4fe6625b",
   "metadata": {},
   "outputs": [],
   "source": [
    "arxiv_totals.fillna(value=0, inplace=True)"
   ]
  },
  {
   "cell_type": "markdown",
   "id": "c5a9c034",
   "metadata": {},
   "source": [
    "Finally, we re-index `arxiv_snapshots` to `update_date`."
   ]
  },
  {
   "cell_type": "code",
   "execution_count": 15,
   "id": "11ff8454",
   "metadata": {},
   "outputs": [],
   "source": [
    "arxiv_totals.set_index('update_date', inplace=True)"
   ]
  },
  {
   "cell_type": "markdown",
   "id": "34f15f31",
   "metadata": {},
   "source": [
    "We can now save the totals to `data/arxiv-totals.parquet`."
   ]
  },
  {
   "cell_type": "code",
   "execution_count": 16,
   "id": "4a21b47e",
   "metadata": {},
   "outputs": [],
   "source": [
    "arxiv_totals.to_parquet('../data/arxiv-totals.parquet')"
   ]
  },
  {
   "cell_type": "markdown",
   "id": "52e61a8c",
   "metadata": {},
   "source": [
    "**Note:** as before, the first date in `arxiv_totals` seems to contain all entries before May 23, 2007.  We should drop it when we do the analysis."
   ]
  }
 ],
 "metadata": {
  "kernelspec": {
   "display_name": "Python 3",
   "language": "python",
   "name": "python3"
  },
  "language_info": {
   "codemirror_mode": {
    "name": "ipython",
    "version": 3
   },
   "file_extension": ".py",
   "mimetype": "text/x-python",
   "name": "python",
   "nbconvert_exporter": "python",
   "pygments_lexer": "ipython3",
   "version": "3.11.11"
  }
 },
 "nbformat": 4,
 "nbformat_minor": 5
}
