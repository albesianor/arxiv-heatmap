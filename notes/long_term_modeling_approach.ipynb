{
 "cells": [
  {
   "cell_type": "markdown",
   "id": "2cbf405e",
   "metadata": {},
   "source": [
    "### Modeling Approach\n",
    "\n",
    "#### Step 1: Data Preparation\n",
    "\n",
    "- Construct monthly adjacency matrices from cross-listed categories.\n",
    "- Construct monthly audience time series:\n",
    "    - $A(C, t) =$ number of postings in category $C$ at time $t$.\n",
    "\n",
    "\n",
    "#### Step 2: Build Temporal Graphs\n",
    "\n",
    "For each month $t$, construct a weighted graph $G_t = (V, E_t)$:\n",
    "\n",
    "- Nodes $V$: all categories\n",
    "- Edges $E_t$: edge weights based on cross-listing counts in month $t$\n",
    "- Maintain audience attribute on each node $A_t(C)$.\n",
    "\n",
    "#### Step 3: Transition Modeling\n",
    "\n",
    "For each category $C_0$ at time $t_0$:\n",
    "- Define adjacent fields: all $C_1$ connected to $C_0$ in $G_{t_0}$.\n",
    "- Simulate/forecast audience growth over $\\Delta t$ for each field:\n",
    "    - Use a regression model or time series model per category (e.g., ARIMA, exponential smoothing, or LSTM).\n",
    "- Output: predicted audience at $t_0 + \\Delta t$: $\\hat{A}_{t_0 + \\Delta t}(C_i)$\n",
    "\n",
    "#### Step 4: Score \\& Recommend\n",
    "\n",
    "Define adjacency-weighted average audience:\n",
    "\n",
    "  $$\n",
    "  \\bar{A}_{\\text{adj}}(C_0) = \\frac{1}{Z} \\sum_{C_i \\in \\text{Adj}(C_0)} w(C_0, C_i) \\cdot \\hat{A}_{t_0 + \\Delta t}(C_i)\n",
    "  $$\n",
    "\n",
    "  where $w(C_0, C_i)$ is the edge weight and $Z$ is a normalizing factor.\n",
    "\n",
    "Recommend:\n",
    "\n",
    "- Stay in $C_0$ if $\\hat{A}_{t_0 + \\Delta t}(C_0) > \\bar{A}_{\\text{adj}}(C_0)$\n",
    "- Move to $C^* = \\arg\\max_{C_i} \\hat{A}_{t_0 + \\Delta t}(C_i)$ otherwise\n",
    "\n"
   ]
  }
 ],
 "metadata": {
  "language_info": {
   "name": "python"
  }
 },
 "nbformat": 4,
 "nbformat_minor": 5
}
