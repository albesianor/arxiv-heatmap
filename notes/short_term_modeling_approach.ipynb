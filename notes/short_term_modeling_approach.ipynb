{
 "cells": [
  {
   "cell_type": "markdown",
   "id": "f51a9cf6",
   "metadata": {},
   "source": [
    "## Short Term Modeling Approach\n",
    "\n",
    "### Goal\n",
    "\n",
    "<!-- For a fixed category $\\mathcal{C}$ and a forecasting horizon $h$, we want to predict the number of submissions tagged with $\\mathcal{C}$ on the day $t_0+h$. -->\n",
    "\n",
    "For a stakeholder submitting a paper with tags $\\mathcal{C}_1,\\dots,\\mathcal{C}_n$ and wants to submit within the next $h$ days, we will give the suggestion of the best day(s) within this time period to submit to optimize visibility.\n",
    "\n",
    "Some questions/remarks:\n",
    "- ~~Is there a relation between amount of the daily submission and the daily usage?~~ A lot of people subscribe to the mailing list and won't actaully visit the arxiv webpage. \n",
    "- Is there an interesting distribution on hourly usage (perhaps on different days of a week)? \n",
    "- Need to figure out a way to exclude weekends.\n",
    "\n",
    "\n",
    "### Steps\n",
    "\n",
    "#### Step 1: Data Preparation\n",
    "We will need to fix the following parameters:\n",
    "- A fixed cateogry $\\mathcal{C}$\n",
    "- A forecasting horizon $h$\n",
    "\n",
    "#### Step 2: Baseline Model\n",
    "There are several choices of time series models for us to form the baseline model:\n",
    "- [Holt-Winters (Triple Exponential Smoothing)](https://www.statsmodels.org/devel/generated/statsmodels.tsa.holtwinters.ExponentialSmoothing.html)  \n",
    "    Use cross-validation or a validation to find the best combination of the hyperparameters `trend`, `damped_trend`, `seasonal`.  \n",
    "    - Additive version\n",
    "    - Multiplicative version\n",
    "\n",
    "- Seasonal Autoregressive Integrated Moving Average (SARIMA) or ARIMA\n",
    "- Some regression models ❓\n",
    "\n",
    "#### Step 3: Modification\n",
    "Given the result of the baseline modeling, we can modify it to give a better prediction. Furthermore, we can use some frameworks which allow us to run multiple models:\n",
    "- [Facebook Prophet](https://github.com/facebook/prophet) or [NeuralProphet](https://github.com/ourownstory/neural_prophet)  \n",
    "    NeuralProphet offers an \"_iterative human-in-the-loop mdoel building_\".\n",
    "\n",
    "#### Step 4: Suggestion Output\n",
    "For a stakeholder submitting a paper with tags $\\mathcal{C}_1,\\dots,\\mathcal{C}_n$ and wants to submit within the next $h$ days, we can give the suggestion by the following steps: \n",
    "1. Assign a weight $\\lambda_i$ for each categary $\\mathcal{C}_i$. (audience, customizable, long-term model❓)\n",
    "1. Run the short-term model for all the categories $\\mathcal{C}_i$ and forecasting horizon $h$. \n",
    "1. Suggest the best option(s) within $h$ days for all the categories $\\mathcal{C}_i$ with the given weight $\\lambda_i$. (other score systems❓)\n",
    "\n",
    "\n",
    "We can maybe combine with the use of the long-term modeling to give a comprehensive suggestion: \n",
    "1. For each $\\mathcal{C}_i$, use the long-term model to predict its next move $\\mathcal{D}_i$ within the time period of $h$. \n",
    "1. Assign a weight for each categary $\\mathcal{C}_i$ and $\\mathcal{D}_i$ and forecasting horizon $h$. (audience, customizable, long-term model❓)\n",
    "1. Run the short-term model for all the categories $\\mathcal{C}_i$ and $\\mathcal{D}_i$. \n",
    "1. Suggest the best option(s) within $h$ days for all the categories $\\mathcal{C}_i$ and $\\mathcal{D}_i$ with the given weight. (other score systems❓)\n",
    "\n",
    "\n",
    "### Resource\n",
    "\n",
    "- Lectures on _Time Series_ in the data science bootcamp\n",
    "- [Time-related feature engineering](https://scikit-learn.org/stable/auto_examples/applications/plot_cyclical_feature_engineering.html#time-related-feature-engineering)"
   ]
  }
 ],
 "metadata": {
  "kernelspec": {
   "display_name": "arxiv-heatmaps",
   "language": "python",
   "name": "python3"
  },
  "language_info": {
   "codemirror_mode": {
    "name": "ipython",
    "version": 3
   },
   "file_extension": ".py",
   "mimetype": "text/x-python",
   "name": "python",
   "nbconvert_exporter": "python",
   "pygments_lexer": "ipython3",
   "version": "3.13.3"
  }
 },
 "nbformat": 4,
 "nbformat_minor": 5
}
