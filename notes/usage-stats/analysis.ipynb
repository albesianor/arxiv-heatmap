{
 "cells": [
  {
   "cell_type": "markdown",
   "id": "80f22bb9",
   "metadata": {},
   "source": [
    "# arXiv heatmap\n",
    "### Usage stats analysis\n",
    "\n",
    "In this notebook, we analyze the data about usage to see whether usage depends on the day of the week.  If the data shows such seasonality, we should take that into account when making posting recommendations.  Note that the usage is measured as number of connections per day: while this is not an exact measure of audience size, it is still the only reasonable proxy we can find at the moment."
   ]
  },
  {
   "cell_type": "markdown",
   "id": "4750f0c9",
   "metadata": {},
   "source": [
    "### Dataset preparation\n",
    "We start by loading the dataset collected in `data-collection.ipynb`."
   ]
  },
  {
   "cell_type": "code",
   "execution_count": 1,
   "id": "e27bfbd4",
   "metadata": {},
   "outputs": [],
   "source": [
    "import pandas as pd\n",
    "import matplotlib.pyplot as plt\n",
    "import seaborn as sns\n",
    "\n",
    "usage = pd.read_parquet(\"../../data/arxiv-usage.parquet\")"
   ]
  },
  {
   "cell_type": "code",
   "execution_count": 2,
   "id": "1a29cf3f",
   "metadata": {},
   "outputs": [
    {
     "data": {
      "application/vnd.microsoft.datawrangler.viewer.v0+json": {
       "columns": [
        {
         "name": "0",
         "rawType": "datetime64[ns]",
         "type": "datetime"
        },
        {
         "name": "1",
         "rawType": "int64",
         "type": "integer"
        }
       ],
       "ref": "0386a519-0098-4b1f-8460-8164f720357c",
       "rows": [
        [
         "2024-01-01 00:00:00",
         "43626111"
        ],
        [
         "2024-01-02 00:00:00",
         "54640750"
        ],
        [
         "2024-01-03 00:00:00",
         "56101036"
        ],
        [
         "2024-01-04 00:00:00",
         "50084378"
        ],
        [
         "2024-01-05 00:00:00",
         "48182775"
        ],
        [
         "2024-01-06 00:00:00",
         "37780364"
        ],
        [
         "2024-01-07 00:00:00",
         "42722423"
        ],
        [
         "2024-01-08 00:00:00",
         "60104549"
        ],
        [
         "2024-01-09 00:00:00",
         "68839403"
        ],
        [
         "2024-01-10 00:00:00",
         "65369144"
        ],
        [
         "2024-01-11 00:00:00",
         "63933734"
        ],
        [
         "2024-01-12 00:00:00",
         "52606715"
        ],
        [
         "2024-01-13 00:00:00",
         "43708353"
        ],
        [
         "2024-01-14 00:00:00",
         "46123519"
        ],
        [
         "2024-01-15 00:00:00",
         "61942886"
        ],
        [
         "2024-01-16 00:00:00",
         "56403667"
        ],
        [
         "2024-01-17 00:00:00",
         "65499257"
        ],
        [
         "2024-01-18 00:00:00",
         "71293307"
        ],
        [
         "2024-01-19 00:00:00",
         "54382555"
        ],
        [
         "2024-01-20 00:00:00",
         "45321083"
        ],
        [
         "2024-01-21 00:00:00",
         "48959659"
        ],
        [
         "2024-01-22 00:00:00",
         "77406220"
        ],
        [
         "2024-01-23 00:00:00",
         "65178979"
        ],
        [
         "2024-01-24 00:00:00",
         "58113147"
        ],
        [
         "2024-01-25 00:00:00",
         "59563187"
        ],
        [
         "2024-01-26 00:00:00",
         "58516253"
        ],
        [
         "2024-01-27 00:00:00",
         "42844367"
        ],
        [
         "2024-01-28 00:00:00",
         "49130630"
        ],
        [
         "2024-01-29 00:00:00",
         "64674838"
        ],
        [
         "2024-01-30 00:00:00",
         "71676314"
        ],
        [
         "2024-01-31 00:00:00",
         "67354956"
        ],
        [
         "2024-02-01 00:00:00",
         "94783846"
        ],
        [
         "2024-02-02 00:00:00",
         "62812440"
        ],
        [
         "2024-02-03 00:00:00",
         "54970697"
        ],
        [
         "2024-02-04 00:00:00",
         "55093954"
        ],
        [
         "2024-02-05 00:00:00",
         "60986192"
        ],
        [
         "2024-02-06 00:00:00",
         "65915051"
        ],
        [
         "2024-02-07 00:00:00",
         "56307051"
        ],
        [
         "2024-02-08 00:00:00",
         "57433301"
        ],
        [
         "2024-02-09 00:00:00",
         "49899189"
        ],
        [
         "2024-02-10 00:00:00",
         "38281668"
        ],
        [
         "2024-02-11 00:00:00",
         "38851491"
        ],
        [
         "2024-02-12 00:00:00",
         "54835788"
        ],
        [
         "2024-02-13 00:00:00",
         "63771880"
        ],
        [
         "2024-02-14 00:00:00",
         "52999366"
        ],
        [
         "2024-02-15 00:00:00",
         "55976104"
        ],
        [
         "2024-02-16 00:00:00",
         "56391850"
        ],
        [
         "2024-02-17 00:00:00",
         "41103208"
        ],
        [
         "2024-02-18 00:00:00",
         "45635128"
        ],
        [
         "2024-02-19 00:00:00",
         "61822221"
        ]
       ],
       "shape": {
        "columns": 1,
        "rows": 466
       }
      },
      "text/html": [
       "<div>\n",
       "<style scoped>\n",
       "    .dataframe tbody tr th:only-of-type {\n",
       "        vertical-align: middle;\n",
       "    }\n",
       "\n",
       "    .dataframe tbody tr th {\n",
       "        vertical-align: top;\n",
       "    }\n",
       "\n",
       "    .dataframe thead th {\n",
       "        text-align: right;\n",
       "    }\n",
       "</style>\n",
       "<table border=\"1\" class=\"dataframe\">\n",
       "  <thead>\n",
       "    <tr style=\"text-align: right;\">\n",
       "      <th></th>\n",
       "      <th>1</th>\n",
       "    </tr>\n",
       "    <tr>\n",
       "      <th>0</th>\n",
       "      <th></th>\n",
       "    </tr>\n",
       "  </thead>\n",
       "  <tbody>\n",
       "    <tr>\n",
       "      <th>2024-01-01</th>\n",
       "      <td>43626111</td>\n",
       "    </tr>\n",
       "    <tr>\n",
       "      <th>2024-01-02</th>\n",
       "      <td>54640750</td>\n",
       "    </tr>\n",
       "    <tr>\n",
       "      <th>2024-01-03</th>\n",
       "      <td>56101036</td>\n",
       "    </tr>\n",
       "    <tr>\n",
       "      <th>2024-01-04</th>\n",
       "      <td>50084378</td>\n",
       "    </tr>\n",
       "    <tr>\n",
       "      <th>2024-01-05</th>\n",
       "      <td>48182775</td>\n",
       "    </tr>\n",
       "    <tr>\n",
       "      <th>...</th>\n",
       "      <td>...</td>\n",
       "    </tr>\n",
       "    <tr>\n",
       "      <th>2025-04-06</th>\n",
       "      <td>42500085</td>\n",
       "    </tr>\n",
       "    <tr>\n",
       "      <th>2025-04-07</th>\n",
       "      <td>57708551</td>\n",
       "    </tr>\n",
       "    <tr>\n",
       "      <th>2025-04-08</th>\n",
       "      <td>57728496</td>\n",
       "    </tr>\n",
       "    <tr>\n",
       "      <th>2025-04-09</th>\n",
       "      <td>56104215</td>\n",
       "    </tr>\n",
       "    <tr>\n",
       "      <th>2025-04-10</th>\n",
       "      <td>53120177</td>\n",
       "    </tr>\n",
       "  </tbody>\n",
       "</table>\n",
       "<p>466 rows × 1 columns</p>\n",
       "</div>"
      ],
      "text/plain": [
       "                   1\n",
       "0                   \n",
       "2024-01-01  43626111\n",
       "2024-01-02  54640750\n",
       "2024-01-03  56101036\n",
       "2024-01-04  50084378\n",
       "2024-01-05  48182775\n",
       "...              ...\n",
       "2025-04-06  42500085\n",
       "2025-04-07  57708551\n",
       "2025-04-08  57728496\n",
       "2025-04-09  56104215\n",
       "2025-04-10  53120177\n",
       "\n",
       "[466 rows x 1 columns]"
      ]
     },
     "execution_count": 2,
     "metadata": {},
     "output_type": "execute_result"
    }
   ],
   "source": [
    "usage"
   ]
  },
  {
   "cell_type": "markdown",
   "id": "49352d50",
   "metadata": {},
   "source": [
    "Then we create a new column containing the day of the week for each entry."
   ]
  },
  {
   "cell_type": "code",
   "execution_count": 3,
   "id": "aa262605",
   "metadata": {},
   "outputs": [],
   "source": [
    "from calendar import day_name\n",
    "\n",
    "usage.reset_index(inplace=True)\n",
    "usage[\"weekday\"] = usage[\"0\"].apply(lambda date: day_name[date.weekday()])\n",
    "usage.rename(columns={\"0\": \"date\", 1: \"connections\"}, inplace=True)"
   ]
  },
  {
   "cell_type": "code",
   "execution_count": 4,
   "id": "db4875cc",
   "metadata": {},
   "outputs": [
    {
     "data": {
      "application/vnd.microsoft.datawrangler.viewer.v0+json": {
       "columns": [
        {
         "name": "index",
         "rawType": "int64",
         "type": "integer"
        },
        {
         "name": "date",
         "rawType": "datetime64[ns]",
         "type": "datetime"
        },
        {
         "name": "connections",
         "rawType": "int64",
         "type": "integer"
        },
        {
         "name": "weekday",
         "rawType": "object",
         "type": "string"
        }
       ],
       "ref": "2f57f8ff-8387-42c1-aff7-7580455195a1",
       "rows": [
        [
         "0",
         "2024-01-01 00:00:00",
         "43626111",
         "Monday"
        ],
        [
         "1",
         "2024-01-02 00:00:00",
         "54640750",
         "Tuesday"
        ],
        [
         "2",
         "2024-01-03 00:00:00",
         "56101036",
         "Wednesday"
        ],
        [
         "3",
         "2024-01-04 00:00:00",
         "50084378",
         "Thursday"
        ],
        [
         "4",
         "2024-01-05 00:00:00",
         "48182775",
         "Friday"
        ],
        [
         "5",
         "2024-01-06 00:00:00",
         "37780364",
         "Saturday"
        ],
        [
         "6",
         "2024-01-07 00:00:00",
         "42722423",
         "Sunday"
        ],
        [
         "7",
         "2024-01-08 00:00:00",
         "60104549",
         "Monday"
        ],
        [
         "8",
         "2024-01-09 00:00:00",
         "68839403",
         "Tuesday"
        ],
        [
         "9",
         "2024-01-10 00:00:00",
         "65369144",
         "Wednesday"
        ],
        [
         "10",
         "2024-01-11 00:00:00",
         "63933734",
         "Thursday"
        ],
        [
         "11",
         "2024-01-12 00:00:00",
         "52606715",
         "Friday"
        ],
        [
         "12",
         "2024-01-13 00:00:00",
         "43708353",
         "Saturday"
        ],
        [
         "13",
         "2024-01-14 00:00:00",
         "46123519",
         "Sunday"
        ],
        [
         "14",
         "2024-01-15 00:00:00",
         "61942886",
         "Monday"
        ],
        [
         "15",
         "2024-01-16 00:00:00",
         "56403667",
         "Tuesday"
        ],
        [
         "16",
         "2024-01-17 00:00:00",
         "65499257",
         "Wednesday"
        ],
        [
         "17",
         "2024-01-18 00:00:00",
         "71293307",
         "Thursday"
        ],
        [
         "18",
         "2024-01-19 00:00:00",
         "54382555",
         "Friday"
        ],
        [
         "19",
         "2024-01-20 00:00:00",
         "45321083",
         "Saturday"
        ],
        [
         "20",
         "2024-01-21 00:00:00",
         "48959659",
         "Sunday"
        ],
        [
         "21",
         "2024-01-22 00:00:00",
         "77406220",
         "Monday"
        ],
        [
         "22",
         "2024-01-23 00:00:00",
         "65178979",
         "Tuesday"
        ],
        [
         "23",
         "2024-01-24 00:00:00",
         "58113147",
         "Wednesday"
        ],
        [
         "24",
         "2024-01-25 00:00:00",
         "59563187",
         "Thursday"
        ],
        [
         "25",
         "2024-01-26 00:00:00",
         "58516253",
         "Friday"
        ],
        [
         "26",
         "2024-01-27 00:00:00",
         "42844367",
         "Saturday"
        ],
        [
         "27",
         "2024-01-28 00:00:00",
         "49130630",
         "Sunday"
        ],
        [
         "28",
         "2024-01-29 00:00:00",
         "64674838",
         "Monday"
        ],
        [
         "29",
         "2024-01-30 00:00:00",
         "71676314",
         "Tuesday"
        ],
        [
         "30",
         "2024-01-31 00:00:00",
         "67354956",
         "Wednesday"
        ],
        [
         "31",
         "2024-02-01 00:00:00",
         "94783846",
         "Thursday"
        ],
        [
         "32",
         "2024-02-02 00:00:00",
         "62812440",
         "Friday"
        ],
        [
         "33",
         "2024-02-03 00:00:00",
         "54970697",
         "Saturday"
        ],
        [
         "34",
         "2024-02-04 00:00:00",
         "55093954",
         "Sunday"
        ],
        [
         "35",
         "2024-02-05 00:00:00",
         "60986192",
         "Monday"
        ],
        [
         "36",
         "2024-02-06 00:00:00",
         "65915051",
         "Tuesday"
        ],
        [
         "37",
         "2024-02-07 00:00:00",
         "56307051",
         "Wednesday"
        ],
        [
         "38",
         "2024-02-08 00:00:00",
         "57433301",
         "Thursday"
        ],
        [
         "39",
         "2024-02-09 00:00:00",
         "49899189",
         "Friday"
        ],
        [
         "40",
         "2024-02-10 00:00:00",
         "38281668",
         "Saturday"
        ],
        [
         "41",
         "2024-02-11 00:00:00",
         "38851491",
         "Sunday"
        ],
        [
         "42",
         "2024-02-12 00:00:00",
         "54835788",
         "Monday"
        ],
        [
         "43",
         "2024-02-13 00:00:00",
         "63771880",
         "Tuesday"
        ],
        [
         "44",
         "2024-02-14 00:00:00",
         "52999366",
         "Wednesday"
        ],
        [
         "45",
         "2024-02-15 00:00:00",
         "55976104",
         "Thursday"
        ],
        [
         "46",
         "2024-02-16 00:00:00",
         "56391850",
         "Friday"
        ],
        [
         "47",
         "2024-02-17 00:00:00",
         "41103208",
         "Saturday"
        ],
        [
         "48",
         "2024-02-18 00:00:00",
         "45635128",
         "Sunday"
        ],
        [
         "49",
         "2024-02-19 00:00:00",
         "61822221",
         "Monday"
        ]
       ],
       "shape": {
        "columns": 3,
        "rows": 466
       }
      },
      "text/html": [
       "<div>\n",
       "<style scoped>\n",
       "    .dataframe tbody tr th:only-of-type {\n",
       "        vertical-align: middle;\n",
       "    }\n",
       "\n",
       "    .dataframe tbody tr th {\n",
       "        vertical-align: top;\n",
       "    }\n",
       "\n",
       "    .dataframe thead th {\n",
       "        text-align: right;\n",
       "    }\n",
       "</style>\n",
       "<table border=\"1\" class=\"dataframe\">\n",
       "  <thead>\n",
       "    <tr style=\"text-align: right;\">\n",
       "      <th></th>\n",
       "      <th>date</th>\n",
       "      <th>connections</th>\n",
       "      <th>weekday</th>\n",
       "    </tr>\n",
       "  </thead>\n",
       "  <tbody>\n",
       "    <tr>\n",
       "      <th>0</th>\n",
       "      <td>2024-01-01</td>\n",
       "      <td>43626111</td>\n",
       "      <td>Monday</td>\n",
       "    </tr>\n",
       "    <tr>\n",
       "      <th>1</th>\n",
       "      <td>2024-01-02</td>\n",
       "      <td>54640750</td>\n",
       "      <td>Tuesday</td>\n",
       "    </tr>\n",
       "    <tr>\n",
       "      <th>2</th>\n",
       "      <td>2024-01-03</td>\n",
       "      <td>56101036</td>\n",
       "      <td>Wednesday</td>\n",
       "    </tr>\n",
       "    <tr>\n",
       "      <th>3</th>\n",
       "      <td>2024-01-04</td>\n",
       "      <td>50084378</td>\n",
       "      <td>Thursday</td>\n",
       "    </tr>\n",
       "    <tr>\n",
       "      <th>4</th>\n",
       "      <td>2024-01-05</td>\n",
       "      <td>48182775</td>\n",
       "      <td>Friday</td>\n",
       "    </tr>\n",
       "    <tr>\n",
       "      <th>...</th>\n",
       "      <td>...</td>\n",
       "      <td>...</td>\n",
       "      <td>...</td>\n",
       "    </tr>\n",
       "    <tr>\n",
       "      <th>461</th>\n",
       "      <td>2025-04-06</td>\n",
       "      <td>42500085</td>\n",
       "      <td>Sunday</td>\n",
       "    </tr>\n",
       "    <tr>\n",
       "      <th>462</th>\n",
       "      <td>2025-04-07</td>\n",
       "      <td>57708551</td>\n",
       "      <td>Monday</td>\n",
       "    </tr>\n",
       "    <tr>\n",
       "      <th>463</th>\n",
       "      <td>2025-04-08</td>\n",
       "      <td>57728496</td>\n",
       "      <td>Tuesday</td>\n",
       "    </tr>\n",
       "    <tr>\n",
       "      <th>464</th>\n",
       "      <td>2025-04-09</td>\n",
       "      <td>56104215</td>\n",
       "      <td>Wednesday</td>\n",
       "    </tr>\n",
       "    <tr>\n",
       "      <th>465</th>\n",
       "      <td>2025-04-10</td>\n",
       "      <td>53120177</td>\n",
       "      <td>Thursday</td>\n",
       "    </tr>\n",
       "  </tbody>\n",
       "</table>\n",
       "<p>466 rows × 3 columns</p>\n",
       "</div>"
      ],
      "text/plain": [
       "          date  connections    weekday\n",
       "0   2024-01-01     43626111     Monday\n",
       "1   2024-01-02     54640750    Tuesday\n",
       "2   2024-01-03     56101036  Wednesday\n",
       "3   2024-01-04     50084378   Thursday\n",
       "4   2024-01-05     48182775     Friday\n",
       "..         ...          ...        ...\n",
       "461 2025-04-06     42500085     Sunday\n",
       "462 2025-04-07     57708551     Monday\n",
       "463 2025-04-08     57728496    Tuesday\n",
       "464 2025-04-09     56104215  Wednesday\n",
       "465 2025-04-10     53120177   Thursday\n",
       "\n",
       "[466 rows x 3 columns]"
      ]
     },
     "execution_count": 4,
     "metadata": {},
     "output_type": "execute_result"
    }
   ],
   "source": [
    "usage"
   ]
  },
  {
   "cell_type": "markdown",
   "id": "8b585719",
   "metadata": {},
   "source": [
    "### Exploratory analysis"
   ]
  },
  {
   "cell_type": "markdown",
   "id": "dc90aeb8",
   "metadata": {},
   "source": [
    "We start with a violin plot of the training dataset, split by day of the week."
   ]
  },
  {
   "cell_type": "code",
   "execution_count": 5,
   "id": "96194655",
   "metadata": {},
   "outputs": [
    {
     "data": {
      "text/plain": [
       "<Axes: xlabel='weekday', ylabel='connections'>"
      ]
     },
     "execution_count": 5,
     "metadata": {},
     "output_type": "execute_result"
    },
    {
     "data": {
      "image/png": "[encoded data removed]",
      "text/plain": [
       "<Figure size 640x480 with 1 Axes>"
      ]
     },
     "metadata": {},
     "output_type": "display_data"
    }
   ],
   "source": [
    "sns.violinplot(\n",
    "    data=usage,\n",
    "    x=\"weekday\",\n",
    "    y=\"connections\",\n",
    "    # hue=True,\n",
    "    # hue_order=[True, False],\n",
    "    split=True,\n",
    ")"
   ]
  },
  {
   "cell_type": "markdown",
   "id": "5f288f6c",
   "metadata": {},
   "source": [
    "It does not look like the date of the week matters much for the number of connections, possibly except for weekends.  Preprints are made public (\"announced\") on weekdays only, so it seems reasonable to restrict the dataset to weekdays."
   ]
  },
  {
   "cell_type": "code",
   "execution_count": 6,
   "id": "3c8ca339",
   "metadata": {},
   "outputs": [
    {
     "data": {
      "text/plain": [
       "<Axes: xlabel='weekday', ylabel='connections'>"
      ]
     },
     "execution_count": 6,
     "metadata": {},
     "output_type": "execute_result"
    },
    {
     "data": {
      "image/png": "[encoded data removed]",
      "text/plain": [
       "<Figure size 640x480 with 1 Axes>"
      ]
     },
     "metadata": {},
     "output_type": "display_data"
    }
   ],
   "source": [
    "usage_weekdays = usage[(usage.weekday != \"Saturday\") & (usage.weekday != \"Sunday\")]\n",
    "sns.violinplot(\n",
    "    data=usage_weekdays,\n",
    "    x=\"weekday\",\n",
    "    y=\"connections\",\n",
    "    # hue=True,\n",
    "    # hue_order=[True, False],\n",
    "    split=True,\n",
    ")"
   ]
  },
  {
   "cell_type": "markdown",
   "id": "5963096f",
   "metadata": {},
   "source": [
    "We now do hypothesis testing:\n",
    "- _null hypothesis_: there is no contribution from the day of the week, so the model is average plus noise,\n",
    "- _alternative hypothesis_: the day of the week has a contribution, so the model is linear regression on 5 one-hot encoded variables.\n",
    "\n",
    "First, we produce the one-hot encoding of the `weekday` feature."
   ]
  },
  {
   "cell_type": "code",
   "execution_count": 7,
   "id": "dd4e4ade",
   "metadata": {},
   "outputs": [],
   "source": [
    "one_hot = (\n",
    "    pd.get_dummies(usage_weekdays.weekday, dtype=int)\n",
    "    .drop(\"Friday\", axis=1)\n",
    "    .iloc[:, [0, 2, 3, 1]]\n",
    ")\n",
    "usage_weekdays = usage_weekdays.join(one_hot)"
   ]
  },
  {
   "cell_type": "markdown",
   "id": "84bde9e2",
   "metadata": {},
   "source": [
    "Then we use `statsmodels` to compare the model with no feature with the model regressed on `Monday`, `Tuesday`, `Wednesday`, and `Friday`, by computing the F-test p-value."
   ]
  },
  {
   "cell_type": "code",
   "execution_count": 8,
   "id": "00831010",
   "metadata": {},
   "outputs": [
    {
     "name": "stdout",
     "output_type": "stream",
     "text": [
      "F-test p-value: 0.7064791000262229\n"
     ]
    }
   ],
   "source": [
    "import statsmodels.formula.api as smf\n",
    "\n",
    "data = {\n",
    "    \"C\": usage_weekdays.connections,\n",
    "    \"M\": usage_weekdays.Monday,\n",
    "    \"Tu\": usage_weekdays.Tuesday,\n",
    "    \"W\": usage_weekdays.Wednesday,\n",
    "    \"Th\": usage_weekdays.Thursday,\n",
    "}\n",
    "\n",
    "reduced_model = smf.ols(\"C ~ 1\", data=data).fit()\n",
    "full_model = smf.ols(\"C ~ M + Tu + W + Th\", data=data).fit()\n",
    "\n",
    "f_test = full_model.compare_f_test(reduced_model)\n",
    "print(\"F-test p-value:\", f_test[1])"
   ]
  },
  {
   "cell_type": "markdown",
   "id": "e57ee9e3",
   "metadata": {},
   "source": [
    "Hence, if the usage data was generated by a normal probability distribution centered at the average number of connections ($C = C_0 + \\varepsilon$), we would see this much improvement when we fit $C = M + Tu + W + Th + \\varepsilon$ instead about $77 \\%$ of the time.  This is not at all a rare thing to happen, so is evidence supporting the independence of the number of connections on the day of the week."
   ]
  },
  {
   "cell_type": "code",
   "execution_count": 9,
   "id": "5116d418",
   "metadata": {},
   "outputs": [
    {
     "data": {
      "text/html": [
       "<table class=\"simpletable\">\n",
       "<caption>OLS Regression Results</caption>\n",
       "<tr>\n",
       "  <th>Dep. Variable:</th>            <td>C</td>        <th>  R-squared:         </th> <td>   0.000</td> \n",
       "</tr>\n",
       "<tr>\n",
       "  <th>Model:</th>                   <td>OLS</td>       <th>  Adj. R-squared:    </th> <td>   0.000</td> \n",
       "</tr>\n",
       "<tr>\n",
       "  <th>Method:</th>             <td>Least Squares</td>  <th>  F-statistic:       </th> <td>     nan</td> \n",
       "</tr>\n",
       "<tr>\n",
       "  <th>Date:</th>             <td>Thu, 05 Jun 2025</td> <th>  Prob (F-statistic):</th>  <td>   nan</td>  \n",
       "</tr>\n",
       "<tr>\n",
       "  <th>Time:</th>                 <td>11:19:44</td>     <th>  Log-Likelihood:    </th> <td> -6126.2</td> \n",
       "</tr>\n",
       "<tr>\n",
       "  <th>No. Observations:</th>      <td>   334</td>      <th>  AIC:               </th> <td>1.225e+04</td>\n",
       "</tr>\n",
       "<tr>\n",
       "  <th>Df Residuals:</th>          <td>   333</td>      <th>  BIC:               </th> <td>1.226e+04</td>\n",
       "</tr>\n",
       "<tr>\n",
       "  <th>Df Model:</th>              <td>     0</td>      <th>                     </th>     <td> </td>    \n",
       "</tr>\n",
       "<tr>\n",
       "  <th>Covariance Type:</th>      <td>nonrobust</td>    <th>                     </th>     <td> </td>    \n",
       "</tr>\n",
       "</table>\n",
       "<table class=\"simpletable\">\n",
       "<tr>\n",
       "      <td></td>         <th>coef</th>     <th>std err</th>      <th>t</th>      <th>P>|t|</th>  <th>[0.025</th>    <th>0.975]</th>  \n",
       "</tr>\n",
       "<tr>\n",
       "  <th>Intercept</th> <td> 5.661e+07</td> <td> 1.23e+06</td> <td>   46.185</td> <td> 0.000</td> <td> 5.42e+07</td> <td>  5.9e+07</td>\n",
       "</tr>\n",
       "</table>\n",
       "<table class=\"simpletable\">\n",
       "<tr>\n",
       "  <th>Omnibus:</th>       <td>28.294</td> <th>  Durbin-Watson:     </th> <td>   0.224</td>\n",
       "</tr>\n",
       "<tr>\n",
       "  <th>Prob(Omnibus):</th> <td> 0.000</td> <th>  Jarque-Bera (JB):  </th> <td>  27.649</td>\n",
       "</tr>\n",
       "<tr>\n",
       "  <th>Skew:</th>          <td> 0.647</td> <th>  Prob(JB):          </th> <td>9.91e-07</td>\n",
       "</tr>\n",
       "<tr>\n",
       "  <th>Kurtosis:</th>      <td> 2.441</td> <th>  Cond. No.          </th> <td>    1.00</td>\n",
       "</tr>\n",
       "</table><br/><br/>Notes:<br/>[1] Standard Errors assume that the covariance matrix of the errors is correctly specified."
      ],
      "text/latex": [
       "\\begin{center}\n",
       "\\begin{tabular}{lclc}\n",
       "\\toprule\n",
       "\\textbf{Dep. Variable:}    &        C         & \\textbf{  R-squared:         } &     0.000   \\\\\n",
       "\\textbf{Model:}            &       OLS        & \\textbf{  Adj. R-squared:    } &     0.000   \\\\\n",
       "\\textbf{Method:}           &  Least Squares   & \\textbf{  F-statistic:       } &       nan   \\\\\n",
       "\\textbf{Date:}             & Thu, 05 Jun 2025 & \\textbf{  Prob (F-statistic):} &      nan    \\\\\n",
       "\\textbf{Time:}             &     11:19:44     & \\textbf{  Log-Likelihood:    } &   -6126.2   \\\\\n",
       "\\textbf{No. Observations:} &         334      & \\textbf{  AIC:               } & 1.225e+04   \\\\\n",
       "\\textbf{Df Residuals:}     &         333      & \\textbf{  BIC:               } & 1.226e+04   \\\\\n",
       "\\textbf{Df Model:}         &           0      & \\textbf{                     } &             \\\\\n",
       "\\textbf{Covariance Type:}  &    nonrobust     & \\textbf{                     } &             \\\\\n",
       "\\bottomrule\n",
       "\\end{tabular}\n",
       "\\begin{tabular}{lcccccc}\n",
       "                   & \\textbf{coef} & \\textbf{std err} & \\textbf{t} & \\textbf{P$> |$t$|$} & \\textbf{[0.025} & \\textbf{0.975]}  \\\\\n",
       "\\midrule\n",
       "\\textbf{Intercept} &    5.661e+07  &     1.23e+06     &    46.185  &         0.000        &     5.42e+07    &      5.9e+07     \\\\\n",
       "\\bottomrule\n",
       "\\end{tabular}\n",
       "\\begin{tabular}{lclc}\n",
       "\\textbf{Omnibus:}       & 28.294 & \\textbf{  Durbin-Watson:     } &    0.224  \\\\\n",
       "\\textbf{Prob(Omnibus):} &  0.000 & \\textbf{  Jarque-Bera (JB):  } &   27.649  \\\\\n",
       "\\textbf{Skew:}          &  0.647 & \\textbf{  Prob(JB):          } & 9.91e-07  \\\\\n",
       "\\textbf{Kurtosis:}      &  2.441 & \\textbf{  Cond. No.          } &     1.00  \\\\\n",
       "\\bottomrule\n",
       "\\end{tabular}\n",
       "%\\caption{OLS Regression Results}\n",
       "\\end{center}\n",
       "\n",
       "Notes: \\newline\n",
       " [1] Standard Errors assume that the covariance matrix of the errors is correctly specified."
      ],
      "text/plain": [
       "<class 'statsmodels.iolib.summary.Summary'>\n",
       "\"\"\"\n",
       "                            OLS Regression Results                            \n",
       "==============================================================================\n",
       "Dep. Variable:                      C   R-squared:                       0.000\n",
       "Model:                            OLS   Adj. R-squared:                  0.000\n",
       "Method:                 Least Squares   F-statistic:                       nan\n",
       "Date:                Thu, 05 Jun 2025   Prob (F-statistic):                nan\n",
       "Time:                        11:19:44   Log-Likelihood:                -6126.2\n",
       "No. Observations:                 334   AIC:                         1.225e+04\n",
       "Df Residuals:                     333   BIC:                         1.226e+04\n",
       "Df Model:                           0                                         \n",
       "Covariance Type:            nonrobust                                         \n",
       "==============================================================================\n",
       "                 coef    std err          t      P>|t|      [0.025      0.975]\n",
       "------------------------------------------------------------------------------\n",
       "Intercept   5.661e+07   1.23e+06     46.185      0.000    5.42e+07     5.9e+07\n",
       "==============================================================================\n",
       "Omnibus:                       28.294   Durbin-Watson:                   0.224\n",
       "Prob(Omnibus):                  0.000   Jarque-Bera (JB):               27.649\n",
       "Skew:                           0.647   Prob(JB):                     9.91e-07\n",
       "Kurtosis:                       2.441   Cond. No.                         1.00\n",
       "==============================================================================\n",
       "\n",
       "Notes:\n",
       "[1] Standard Errors assume that the covariance matrix of the errors is correctly specified.\n",
       "\"\"\""
      ]
     },
     "execution_count": 9,
     "metadata": {},
     "output_type": "execute_result"
    }
   ],
   "source": [
    "reduced_model.summary()"
   ]
  },
  {
   "cell_type": "markdown",
   "id": "7d177a0f",
   "metadata": {},
   "source": [
    "Note that the number of connections seems to depend on some other seasonal feature, but if we limit our forecasting to the week then they don't appear to be relevant."
   ]
  },
  {
   "cell_type": "code",
   "execution_count": 10,
   "id": "55a92f7d",
   "metadata": {},
   "outputs": [
    {
     "data": {
      "text/plain": [
       "<Axes: xlabel='Date', ylabel='Connections'>"
      ]
     },
     "execution_count": 10,
     "metadata": {},
     "output_type": "execute_result"
    },
    {
     "data": {
      "image/png": "[encoded data removed]",
      "text/plain": [
       "<Figure size 640x480 with 1 Axes>"
      ]
     },
     "metadata": {},
     "output_type": "display_data"
    }
   ],
   "source": [
    "pd.read_parquet(\"../../data/arxiv-usage.parquet\").plot(\n",
    "    xlabel=\"Date\", ylabel=\"Connections\", legend=False\n",
    ")"
   ]
  }
 ],
 "metadata": {
  "kernelspec": {
   "display_name": "arxiv-heatmaps",
   "language": "python",
   "name": "python3"
  },
  "language_info": {
   "codemirror_mode": {
    "name": "ipython",
    "version": 3
   },
   "file_extension": ".py",
   "mimetype": "text/x-python",
   "name": "python",
   "nbconvert_exporter": "python",
   "pygments_lexer": "ipython3",
   "version": "3.13.3"
  }
 },
 "nbformat": 4,
 "nbformat_minor": 5
}
