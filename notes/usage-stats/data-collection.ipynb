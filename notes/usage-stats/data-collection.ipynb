{
 "cells": [
  {
   "cell_type": "markdown",
   "id": "1fb5071b",
   "metadata": {},
   "source": [
    "# arXiv heatmap\n",
    "### Usage stats data collection\n",
    "\n",
    "For the short-term forecast to make sense and be usable, we need to make sure that we understand the daily usage of the arXiv.  We can luckily obtain daily usage directly from the arXiv as a `csv` file with the API `https://arxiv.org/stats/get_hourly?date=yyyymmdd`.\n",
    "\n",
    "##### Toy case\n",
    "To demonstrate, here are the usage stats for June 3, 2025."
   ]
  },
  {
   "cell_type": "code",
   "execution_count": 1,
   "id": "2eb66d0b",
   "metadata": {},
   "outputs": [],
   "source": [
    "import pandas as pd\n",
    "\n",
    "june5 = pd.read_csv(\"https://arxiv.org/stats/get_hourly?date=20250603\")"
   ]
  },
  {
   "cell_type": "markdown",
   "id": "c7701752",
   "metadata": {},
   "source": [
    "Here is how the loaded table looks like.  The `node1` column represents the total number of connections per hour (to the [arxiv.org](https://arxiv.org) site only)."
   ]
  },
  {
   "cell_type": "code",
   "execution_count": 2,
   "id": "dbb96fc7",
   "metadata": {},
   "outputs": [
    {
     "data": {
      "application/vnd.microsoft.datawrangler.viewer.v0+json": {
       "columns": [
        {
         "name": "index",
         "rawType": "int64",
         "type": "integer"
        },
        {
         "name": "hour",
         "rawType": "object",
         "type": "string"
        },
        {
         "name": "node1",
         "rawType": "int64",
         "type": "integer"
        }
       ],
       "ref": "4ec48371-ac88-4151-a656-e2f4eabb9d46",
       "rows": [
        [
         "0",
         "2025-06-03T00:00:00Z",
         "3776905"
        ],
        [
         "1",
         "2025-06-03T01:00:00Z",
         "3880455"
        ],
        [
         "2",
         "2025-06-03T02:00:00Z",
         "4539216"
        ],
        [
         "3",
         "2025-06-03T03:00:00Z",
         "4639824"
        ],
        [
         "4",
         "2025-06-03T04:00:00Z",
         "4614698"
        ],
        [
         "5",
         "2025-06-03T05:00:00Z",
         "4244343"
        ],
        [
         "6",
         "2025-06-03T06:00:00Z",
         "3800650"
        ],
        [
         "7",
         "2025-06-03T07:00:00Z",
         "3768012"
        ],
        [
         "8",
         "2025-06-03T08:00:00Z",
         "3928061"
        ],
        [
         "9",
         "2025-06-03T09:00:00Z",
         "3998370"
        ],
        [
         "10",
         "2025-06-03T10:00:00Z",
         "3896249"
        ],
        [
         "11",
         "2025-06-03T11:00:00Z",
         "3669269"
        ],
        [
         "12",
         "2025-06-03T12:00:00Z",
         "3290527"
        ],
        [
         "13",
         "2025-06-03T13:00:00Z",
         "3023984"
        ],
        [
         "14",
         "2025-06-03T14:00:00Z",
         "2913093"
        ],
        [
         "15",
         "2025-06-03T15:00:00Z",
         "2866333"
        ],
        [
         "16",
         "2025-06-03T16:00:00Z",
         "2959581"
        ],
        [
         "17",
         "2025-06-03T17:00:00Z",
         "2747274"
        ],
        [
         "18",
         "2025-06-03T18:00:00Z",
         "2674339"
        ],
        [
         "19",
         "2025-06-03T19:00:00Z",
         "2497968"
        ],
        [
         "20",
         "2025-06-03T20:00:00Z",
         "2724900"
        ],
        [
         "21",
         "2025-06-03T21:00:00Z",
         "3378105"
        ],
        [
         "22",
         "2025-06-03T22:00:00Z",
         "3718443"
        ],
        [
         "23",
         "2025-06-03T23:00:00Z",
         "3680957"
        ]
       ],
       "shape": {
        "columns": 2,
        "rows": 24
       }
      },
      "text/html": [
       "<div>\n",
       "<style scoped>\n",
       "    .dataframe tbody tr th:only-of-type {\n",
       "        vertical-align: middle;\n",
       "    }\n",
       "\n",
       "    .dataframe tbody tr th {\n",
       "        vertical-align: top;\n",
       "    }\n",
       "\n",
       "    .dataframe thead th {\n",
       "        text-align: right;\n",
       "    }\n",
       "</style>\n",
       "<table border=\"1\" class=\"dataframe\">\n",
       "  <thead>\n",
       "    <tr style=\"text-align: right;\">\n",
       "      <th></th>\n",
       "      <th>hour</th>\n",
       "      <th>node1</th>\n",
       "    </tr>\n",
       "  </thead>\n",
       "  <tbody>\n",
       "    <tr>\n",
       "      <th>0</th>\n",
       "      <td>2025-06-03T00:00:00Z</td>\n",
       "      <td>3776905</td>\n",
       "    </tr>\n",
       "    <tr>\n",
       "      <th>1</th>\n",
       "      <td>2025-06-03T01:00:00Z</td>\n",
       "      <td>3880455</td>\n",
       "    </tr>\n",
       "    <tr>\n",
       "      <th>2</th>\n",
       "      <td>2025-06-03T02:00:00Z</td>\n",
       "      <td>4539216</td>\n",
       "    </tr>\n",
       "    <tr>\n",
       "      <th>3</th>\n",
       "      <td>2025-06-03T03:00:00Z</td>\n",
       "      <td>4639824</td>\n",
       "    </tr>\n",
       "    <tr>\n",
       "      <th>4</th>\n",
       "      <td>2025-06-03T04:00:00Z</td>\n",
       "      <td>4614698</td>\n",
       "    </tr>\n",
       "    <tr>\n",
       "      <th>5</th>\n",
       "      <td>2025-06-03T05:00:00Z</td>\n",
       "      <td>4244343</td>\n",
       "    </tr>\n",
       "    <tr>\n",
       "      <th>6</th>\n",
       "      <td>2025-06-03T06:00:00Z</td>\n",
       "      <td>3800650</td>\n",
       "    </tr>\n",
       "    <tr>\n",
       "      <th>7</th>\n",
       "      <td>2025-06-03T07:00:00Z</td>\n",
       "      <td>3768012</td>\n",
       "    </tr>\n",
       "    <tr>\n",
       "      <th>8</th>\n",
       "      <td>2025-06-03T08:00:00Z</td>\n",
       "      <td>3928061</td>\n",
       "    </tr>\n",
       "    <tr>\n",
       "      <th>9</th>\n",
       "      <td>2025-06-03T09:00:00Z</td>\n",
       "      <td>3998370</td>\n",
       "    </tr>\n",
       "    <tr>\n",
       "      <th>10</th>\n",
       "      <td>2025-06-03T10:00:00Z</td>\n",
       "      <td>3896249</td>\n",
       "    </tr>\n",
       "    <tr>\n",
       "      <th>11</th>\n",
       "      <td>2025-06-03T11:00:00Z</td>\n",
       "      <td>3669269</td>\n",
       "    </tr>\n",
       "    <tr>\n",
       "      <th>12</th>\n",
       "      <td>2025-06-03T12:00:00Z</td>\n",
       "      <td>3290527</td>\n",
       "    </tr>\n",
       "    <tr>\n",
       "      <th>13</th>\n",
       "      <td>2025-06-03T13:00:00Z</td>\n",
       "      <td>3023984</td>\n",
       "    </tr>\n",
       "    <tr>\n",
       "      <th>14</th>\n",
       "      <td>2025-06-03T14:00:00Z</td>\n",
       "      <td>2913093</td>\n",
       "    </tr>\n",
       "    <tr>\n",
       "      <th>15</th>\n",
       "      <td>2025-06-03T15:00:00Z</td>\n",
       "      <td>2866333</td>\n",
       "    </tr>\n",
       "    <tr>\n",
       "      <th>16</th>\n",
       "      <td>2025-06-03T16:00:00Z</td>\n",
       "      <td>2959581</td>\n",
       "    </tr>\n",
       "    <tr>\n",
       "      <th>17</th>\n",
       "      <td>2025-06-03T17:00:00Z</td>\n",
       "      <td>2747274</td>\n",
       "    </tr>\n",
       "    <tr>\n",
       "      <th>18</th>\n",
       "      <td>2025-06-03T18:00:00Z</td>\n",
       "      <td>2674339</td>\n",
       "    </tr>\n",
       "    <tr>\n",
       "      <th>19</th>\n",
       "      <td>2025-06-03T19:00:00Z</td>\n",
       "      <td>2497968</td>\n",
       "    </tr>\n",
       "    <tr>\n",
       "      <th>20</th>\n",
       "      <td>2025-06-03T20:00:00Z</td>\n",
       "      <td>2724900</td>\n",
       "    </tr>\n",
       "    <tr>\n",
       "      <th>21</th>\n",
       "      <td>2025-06-03T21:00:00Z</td>\n",
       "      <td>3378105</td>\n",
       "    </tr>\n",
       "    <tr>\n",
       "      <th>22</th>\n",
       "      <td>2025-06-03T22:00:00Z</td>\n",
       "      <td>3718443</td>\n",
       "    </tr>\n",
       "    <tr>\n",
       "      <th>23</th>\n",
       "      <td>2025-06-03T23:00:00Z</td>\n",
       "      <td>3680957</td>\n",
       "    </tr>\n",
       "  </tbody>\n",
       "</table>\n",
       "</div>"
      ],
      "text/plain": [
       "                    hour    node1\n",
       "0   2025-06-03T00:00:00Z  3776905\n",
       "1   2025-06-03T01:00:00Z  3880455\n",
       "2   2025-06-03T02:00:00Z  4539216\n",
       "3   2025-06-03T03:00:00Z  4639824\n",
       "4   2025-06-03T04:00:00Z  4614698\n",
       "5   2025-06-03T05:00:00Z  4244343\n",
       "6   2025-06-03T06:00:00Z  3800650\n",
       "7   2025-06-03T07:00:00Z  3768012\n",
       "8   2025-06-03T08:00:00Z  3928061\n",
       "9   2025-06-03T09:00:00Z  3998370\n",
       "10  2025-06-03T10:00:00Z  3896249\n",
       "11  2025-06-03T11:00:00Z  3669269\n",
       "12  2025-06-03T12:00:00Z  3290527\n",
       "13  2025-06-03T13:00:00Z  3023984\n",
       "14  2025-06-03T14:00:00Z  2913093\n",
       "15  2025-06-03T15:00:00Z  2866333\n",
       "16  2025-06-03T16:00:00Z  2959581\n",
       "17  2025-06-03T17:00:00Z  2747274\n",
       "18  2025-06-03T18:00:00Z  2674339\n",
       "19  2025-06-03T19:00:00Z  2497968\n",
       "20  2025-06-03T20:00:00Z  2724900\n",
       "21  2025-06-03T21:00:00Z  3378105\n",
       "22  2025-06-03T22:00:00Z  3718443\n",
       "23  2025-06-03T23:00:00Z  3680957"
      ]
     },
     "execution_count": 2,
     "metadata": {},
     "output_type": "execute_result"
    }
   ],
   "source": [
    "june5"
   ]
  },
  {
   "cell_type": "markdown",
   "id": "9c574dc2",
   "metadata": {},
   "source": [
    "We only care about daily totals, i.e. the sum of `node1`."
   ]
  },
  {
   "cell_type": "code",
   "execution_count": 3,
   "id": "9cd54af6",
   "metadata": {},
   "outputs": [
    {
     "data": {
      "text/plain": [
       "np.int64(85231556)"
      ]
     },
     "execution_count": 3,
     "metadata": {},
     "output_type": "execute_result"
    }
   ],
   "source": [
    "june5.node1.sum()"
   ]
  },
  {
   "cell_type": "markdown",
   "id": "da9bebe4",
   "metadata": {},
   "source": [
    "##### The actual data collection\n",
    "Now that we understand the workings of data collection, we can do it programmatically to obtain a dataset of daily usage of the arXiv.  We do it this way:\n",
    "- load `data/totals.parquet` to have a list of the dates papers were posted\n",
    "- use the indexes of `arxiv_totals` to access the usage stats API\n",
    "- sum the daily totals and save them as a dictionary\n",
    "- transform the dictionary into a dataframe and export it as parquet"
   ]
  },
  {
   "cell_type": "markdown",
   "id": "f599d130",
   "metadata": {},
   "source": [
    "We load the data."
   ]
  },
  {
   "cell_type": "code",
   "execution_count": 4,
   "id": "89e27975",
   "metadata": {},
   "outputs": [],
   "source": [
    "arxiv_totals = pd.read_parquet(\"../../data/arxiv-totals.parquet\")"
   ]
  },
  {
   "cell_type": "markdown",
   "id": "7ddfc1fe",
   "metadata": {},
   "source": [
    "From a quick search of the data from the API, it seems that arXiv was not tracking daily usage before Jan 1, 2024 (or, at least, it's not accessible via that API).  Hence, our data series will start on that date."
   ]
  },
  {
   "cell_type": "code",
   "execution_count": 5,
   "id": "ddcdb421",
   "metadata": {},
   "outputs": [],
   "source": [
    "import time\n",
    "\n",
    "usage_list = []\n",
    "\n",
    "for index in arxiv_totals[arxiv_totals.index >= pd.Timestamp(2024, 1, 1)].index:\n",
    "    day_usage_stats = pd.read_csv(\n",
    "        \"https://arxiv.org/stats/get_hourly?date=\" + str(index.strftime(\"%Y%m%d\"))\n",
    "    )\n",
    "    usage_list.append(tuple([index, day_usage_stats.node1.sum()]))\n",
    "\n",
    "    # arXiv allows 1 request every 3 seconds, for our use here it means that it will take about 20 minutes\n",
    "    time.sleep(3)\n",
    "\n",
    "usage = pd.DataFrame(usage_list).set_index(0)"
   ]
  },
  {
   "cell_type": "markdown",
   "id": "0ed98262",
   "metadata": {},
   "source": [
    "We have a look at `usage` by looking at the dataframe itself and a crude plot."
   ]
  },
  {
   "cell_type": "code",
   "execution_count": 6,
   "id": "750f0306",
   "metadata": {},
   "outputs": [
    {
     "data": {
      "application/vnd.microsoft.datawrangler.viewer.v0+json": {
       "columns": [
        {
         "name": "index",
         "rawType": "datetime64[ns]",
         "type": "datetime"
        },
        {
         "name": "1",
         "rawType": "int64",
         "type": "integer"
        }
       ],
       "ref": "c98ce31e-4ddb-45ce-a49b-674fed6f55f4",
       "rows": [
        [
         "2024-01-01 00:00:00",
         "43626111"
        ],
        [
         "2024-01-02 00:00:00",
         "54640750"
        ],
        [
         "2024-01-03 00:00:00",
         "56101036"
        ],
        [
         "2024-01-04 00:00:00",
         "50084378"
        ],
        [
         "2024-01-05 00:00:00",
         "48182775"
        ],
        [
         "2024-01-06 00:00:00",
         "37780364"
        ],
        [
         "2024-01-07 00:00:00",
         "42722423"
        ],
        [
         "2024-01-08 00:00:00",
         "60104549"
        ],
        [
         "2024-01-09 00:00:00",
         "68839403"
        ],
        [
         "2024-01-10 00:00:00",
         "65369144"
        ],
        [
         "2024-01-11 00:00:00",
         "63933734"
        ],
        [
         "2024-01-12 00:00:00",
         "52606715"
        ],
        [
         "2024-01-13 00:00:00",
         "43708353"
        ],
        [
         "2024-01-14 00:00:00",
         "46123519"
        ],
        [
         "2024-01-15 00:00:00",
         "61942886"
        ],
        [
         "2024-01-16 00:00:00",
         "56403667"
        ],
        [
         "2024-01-17 00:00:00",
         "65499257"
        ],
        [
         "2024-01-18 00:00:00",
         "71293307"
        ],
        [
         "2024-01-19 00:00:00",
         "54382555"
        ],
        [
         "2024-01-20 00:00:00",
         "45321083"
        ],
        [
         "2024-01-21 00:00:00",
         "48959659"
        ],
        [
         "2024-01-22 00:00:00",
         "77406220"
        ],
        [
         "2024-01-23 00:00:00",
         "65178979"
        ],
        [
         "2024-01-24 00:00:00",
         "58113147"
        ],
        [
         "2024-01-25 00:00:00",
         "59563187"
        ],
        [
         "2024-01-26 00:00:00",
         "58516253"
        ],
        [
         "2024-01-27 00:00:00",
         "42844367"
        ],
        [
         "2024-01-28 00:00:00",
         "49130630"
        ],
        [
         "2024-01-29 00:00:00",
         "64674838"
        ],
        [
         "2024-01-30 00:00:00",
         "71676314"
        ],
        [
         "2024-01-31 00:00:00",
         "67354956"
        ],
        [
         "2024-02-01 00:00:00",
         "94783846"
        ],
        [
         "2024-02-02 00:00:00",
         "62812440"
        ],
        [
         "2024-02-03 00:00:00",
         "54970697"
        ],
        [
         "2024-02-04 00:00:00",
         "55093954"
        ],
        [
         "2024-02-05 00:00:00",
         "60986192"
        ],
        [
         "2024-02-06 00:00:00",
         "65915051"
        ],
        [
         "2024-02-07 00:00:00",
         "56307051"
        ],
        [
         "2024-02-08 00:00:00",
         "57433301"
        ],
        [
         "2024-02-09 00:00:00",
         "49899189"
        ],
        [
         "2024-02-10 00:00:00",
         "38281668"
        ],
        [
         "2024-02-11 00:00:00",
         "38851491"
        ],
        [
         "2024-02-12 00:00:00",
         "54835788"
        ],
        [
         "2024-02-13 00:00:00",
         "63771880"
        ],
        [
         "2024-02-14 00:00:00",
         "52999366"
        ],
        [
         "2024-02-15 00:00:00",
         "55976104"
        ],
        [
         "2024-02-16 00:00:00",
         "56391850"
        ],
        [
         "2024-02-17 00:00:00",
         "41103208"
        ],
        [
         "2024-02-18 00:00:00",
         "45635128"
        ],
        [
         "2024-02-19 00:00:00",
         "61822221"
        ]
       ],
       "shape": {
        "columns": 1,
        "rows": 466
       }
      },
      "text/html": [
       "<div>\n",
       "<style scoped>\n",
       "    .dataframe tbody tr th:only-of-type {\n",
       "        vertical-align: middle;\n",
       "    }\n",
       "\n",
       "    .dataframe tbody tr th {\n",
       "        vertical-align: top;\n",
       "    }\n",
       "\n",
       "    .dataframe thead th {\n",
       "        text-align: right;\n",
       "    }\n",
       "</style>\n",
       "<table border=\"1\" class=\"dataframe\">\n",
       "  <thead>\n",
       "    <tr style=\"text-align: right;\">\n",
       "      <th></th>\n",
       "      <th>1</th>\n",
       "    </tr>\n",
       "    <tr>\n",
       "      <th>0</th>\n",
       "      <th></th>\n",
       "    </tr>\n",
       "  </thead>\n",
       "  <tbody>\n",
       "    <tr>\n",
       "      <th>2024-01-01</th>\n",
       "      <td>43626111</td>\n",
       "    </tr>\n",
       "    <tr>\n",
       "      <th>2024-01-02</th>\n",
       "      <td>54640750</td>\n",
       "    </tr>\n",
       "    <tr>\n",
       "      <th>2024-01-03</th>\n",
       "      <td>56101036</td>\n",
       "    </tr>\n",
       "    <tr>\n",
       "      <th>2024-01-04</th>\n",
       "      <td>50084378</td>\n",
       "    </tr>\n",
       "    <tr>\n",
       "      <th>2024-01-05</th>\n",
       "      <td>48182775</td>\n",
       "    </tr>\n",
       "    <tr>\n",
       "      <th>...</th>\n",
       "      <td>...</td>\n",
       "    </tr>\n",
       "    <tr>\n",
       "      <th>2025-04-06</th>\n",
       "      <td>42500085</td>\n",
       "    </tr>\n",
       "    <tr>\n",
       "      <th>2025-04-07</th>\n",
       "      <td>57708551</td>\n",
       "    </tr>\n",
       "    <tr>\n",
       "      <th>2025-04-08</th>\n",
       "      <td>57728496</td>\n",
       "    </tr>\n",
       "    <tr>\n",
       "      <th>2025-04-09</th>\n",
       "      <td>56104215</td>\n",
       "    </tr>\n",
       "    <tr>\n",
       "      <th>2025-04-10</th>\n",
       "      <td>53120177</td>\n",
       "    </tr>\n",
       "  </tbody>\n",
       "</table>\n",
       "<p>466 rows × 1 columns</p>\n",
       "</div>"
      ],
      "text/plain": [
       "                   1\n",
       "0                   \n",
       "2024-01-01  43626111\n",
       "2024-01-02  54640750\n",
       "2024-01-03  56101036\n",
       "2024-01-04  50084378\n",
       "2024-01-05  48182775\n",
       "...              ...\n",
       "2025-04-06  42500085\n",
       "2025-04-07  57708551\n",
       "2025-04-08  57728496\n",
       "2025-04-09  56104215\n",
       "2025-04-10  53120177\n",
       "\n",
       "[466 rows x 1 columns]"
      ]
     },
     "execution_count": 6,
     "metadata": {},
     "output_type": "execute_result"
    }
   ],
   "source": [
    "usage"
   ]
  },
  {
   "cell_type": "code",
   "execution_count": 7,
   "id": "4e243ce1",
   "metadata": {},
   "outputs": [
    {
     "data": {
      "text/plain": [
       "<Axes: xlabel='0'>"
      ]
     },
     "execution_count": 7,
     "metadata": {},
     "output_type": "execute_result"
    },
    {
     "data": {
      "image/png": "[encoded data removed]",
      "text/plain": [
       "<Figure size 640x480 with 1 Axes>"
      ]
     },
     "metadata": {},
     "output_type": "display_data"
    }
   ],
   "source": [
    "usage.plot()"
   ]
  },
  {
   "cell_type": "markdown",
   "id": "c0724e25",
   "metadata": {},
   "source": [
    "Finally, we save `usage` as `data/arxiv-usage.parquet`."
   ]
  },
  {
   "cell_type": "code",
   "execution_count": 8,
   "id": "8db0516a",
   "metadata": {},
   "outputs": [
    {
     "name": "stderr",
     "output_type": "stream",
     "text": [
      "/home/roberto/anaconda3/envs/arxiv-heatmaps/lib/python3.13/site-packages/pandas/io/parquet.py:480: UserWarning: The DataFrame has non-str index name `[0]` which will be converted to string and not roundtrip correctly.\n",
      "  impl.write(\n"
     ]
    }
   ],
   "source": [
    "usage.to_parquet(\"../../data/arxiv-usage.parquet\")"
   ]
  }
 ],
 "metadata": {
  "kernelspec": {
   "display_name": "arxiv-heatmaps",
   "language": "python",
   "name": "python3"
  },
  "language_info": {
   "codemirror_mode": {
    "name": "ipython",
    "version": 3
   },
   "file_extension": ".py",
   "mimetype": "text/x-python",
   "name": "python",
   "nbconvert_exporter": "python",
   "pygments_lexer": "ipython3",
   "version": "3.13.3"
  }
 },
 "nbformat": 4,
 "nbformat_minor": 5
}
