{
 "cells": [
  {
   "cell_type": "markdown",
   "id": "4fdf2d12",
   "metadata": {},
   "source": [
    "# Merged Jupyter Notebook: arXiv Usage and Posting Analysis\n",
    "\n",
    "# Section 1: Introduction\n",
    "\n",
    "\"\"\"\n",
    "This notebook summarizes the key findings from three separate notebooks:\n",
    "1. `data-collection.ipynb` — collected daily usage statistics from arXiv.\n",
    "2. `analysis.ipynb` — investigated whether arXiv usage depends on the day of the week.\n",
    "3. `correlation.ipynb` — examined correlation between arXiv usage and number of postings per day.\n",
    "\n",
    "We aim to understand potential seasonal patterns in usage and their relation to posting behavior, which may inform future modeling and recommendations.\n",
    "\"\"\""
   ]
  },
  {
   "cell_type": "markdown",
   "id": "e0979216",
   "metadata": {},
   "source": [
    "# Section 2: Data Loading\n",
    "\n",
    "import pandas as pd\n",
    "import matplotlib.pyplot as plt\n",
    "import seaborn as sns\n",
    "from scipy.stats import pearsonr\n",
    "from statsmodels.formula.api import ols\n",
    "import statsmodels.api as sm\n",
    "\n",
    "# Load data\n",
    "usage = pd.read_parquet(\"../../data/arxiv-usage.parquet\")\n",
    "totals = pd.read_parquet(\"../../data/arxiv-totals.parquet\")\n",
    "\n",
    "# Preprocessing\n",
    "usage.columns = [\"date\", \"connections\"]\n",
    "usage[\"date\"] = pd.to_datetime(usage[\"date\"])\n",
    "usage.set_index(\"date\", inplace=True)\n",
    "\n",
    "totals.index = pd.to_datetime(totals.index)\n",
    "totals = totals.loc[\"2024-01-01\":\"2025-04-10\"]\n"
   ]
  },
  {
   "cell_type": "markdown",
   "id": "9828ae8e",
   "metadata": {},
   "source": [
    "# Section 3: Usage Analysis\n",
    "\n",
    "# Daily usage distribution by day of week\n",
    "usage[\"weekday\"] = usage.index.day_name()\n",
    "sns.violinplot(data=usage, x=\"weekday\", y=\"connections\")\n",
    "plt.title(\"Daily arXiv Connections by Weekday\")\n",
    "plt.xticks(rotation=45)\n",
    "plt.tight_layout()\n",
    "plt.show()\n"
   ]
  },
  {
   "cell_type": "markdown",
   "id": "c88fd08f",
   "metadata": {},
   "source": [
    "# Section 4: Weekday Effect Hypothesis Test\n",
    "\n",
    "# One-hot encode weekdays\n",
    "weekday_dummies = pd.get_dummies(usage[\"weekday\"])\n",
    "usage_with_dummies = pd.concat([usage[\"connections\"], weekday_dummies], axis=1)\n",
    "\n",
    "# OLS regression with weekday predictors\n",
    "X = usage_with_dummies.drop(columns=[\"connections\"])\n",
    "X = sm.add_constant(X)\n",
    "y = usage_with_dummies[\"connections\"]\n",
    "model = sm.OLS(y, X).fit()\n",
    "print(model.summary())"
   ]
  },
  {
   "cell_type": "markdown",
   "id": "7e0ad42d",
   "metadata": {},
   "source": [
    "# Section 5: Correlation with Posting Activity\n",
    "\n",
    "# Create daily totals (row sums)\n",
    "totals_sum_df = pd.DataFrame({\"total_appearances\": totals.sum(axis=1)})\n",
    "\n",
    "# Align with usage\n",
    "df_corr = pd.merge(\n",
    "    totals_sum_df, usage[[\"connections\"]], left_index=True, right_index=True\n",
    ")\n",
    "\n",
    "# Correlation\n",
    "r, p_value = pearsonr(df_corr[\"total_appearances\"], df_corr[\"connections\"])\n",
    "print(f\"Pearson correlation: {r:.4f}, p-value: {p_value:.4e}\")\n",
    "\n",
    "# Scatterplot\n",
    "sns.scatterplot(\n",
    "    x=\"total_appearances\", y=\"connections\", data=df_corr, alpha=0.6\n",
    ")\n",
    "plt.title(\"arXiv Connections vs Total Postings\")\n",
    "plt.xlabel(\"Total Appearances\")\n",
    "plt.ylabel(\"Connections\")\n",
    "plt.tight_layout()\n",
    "plt.show()"
   ]
  },
  {
   "cell_type": "markdown",
   "id": "c03769b0",
   "metadata": {},
   "source": [
    "# Section 6: Conclusion\n",
    "\n",
    "\"\"\"\n",
    "Key Findings:\n",
    "- Usage is relatively stable across weekdays, with no statistically significant weekday effect (p > 0.05 in all months except July).\n",
    "- There is a statistically significant but modest correlation (r = 0.2482, p ≈ 5.7e-08) between daily arXiv usage and total article postings.\n",
    "\n",
    "This suggests that while usage is not heavily seasonal, it may weakly reflect submission volumes, and can be cautiously used in forecasting or recommendation systems.\n",
    "\"\"\"\n"
   ]
  }
 ],
 "metadata": {
  "language_info": {
   "name": "python"
  }
 },
 "nbformat": 4,
 "nbformat_minor": 5
}
