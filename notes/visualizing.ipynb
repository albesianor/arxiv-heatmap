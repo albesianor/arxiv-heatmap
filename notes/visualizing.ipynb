{
 "cells": [
  {
   "cell_type": "markdown",
   "id": "3901c4b7",
   "metadata": {},
   "source": [
    "# arXiv heatmap\n",
    "### Visualizing the data\n",
    "\n",
    "##### Starting point\n",
    "- the dataset of cross-listings `data/arxiv-snapshots.parquet`\n",
    "- the dataset of daily totals `data/arxiv-totals.parquet`\n",
    "\n",
    "##### Goal\n",
    "- creating a day-by-day graph of cross-listings\n",
    "- visualizing the graph of cross-listings (with an animation?) and the totals in time (we need to do some smoothing)"
   ]
  },
  {
   "cell_type": "markdown",
   "id": "488980bc",
   "metadata": {},
   "source": [
    "## The code"
   ]
  },
  {
   "cell_type": "code",
   "execution_count": 1,
   "id": "cae8eaec",
   "metadata": {},
   "outputs": [],
   "source": [
    "import pandas as pd\n",
    "import igraph as ig"
   ]
  },
  {
   "cell_type": "markdown",
   "id": "5768dcc3",
   "metadata": {},
   "source": [
    "We start by re-creating the list of categories (`arxiv_categories`) and the list of edges keys (`graph_edges_keys`)."
   ]
  },
  {
   "cell_type": "code",
   "execution_count": 2,
   "id": "8f2f2685",
   "metadata": {},
   "outputs": [],
   "source": [
    "from itertools import combinations_with_replacement as cwr\n",
    "import json\n",
    "\n",
    "with open('../data/arxiv-categories.json', 'r') as f:\n",
    "    arxiv_categories_descriptions = json.load(f)\n",
    "\n",
    "arxiv_categories = sorted([cat['tag'] for cat in arxiv_categories_descriptions] + ['q-bio', 'cond-mat', 'astro-ph'])\n",
    "\n",
    "arxiv_categories_combinations = cwr(arxiv_categories, 2)\n",
    "\n",
    "# use sorted to make sure the tuples are in a consistent ordering\n",
    "graph_edges_keys = [tuple(sorted(index)) for index in arxiv_categories_combinations]"
   ]
  },
  {
   "cell_type": "markdown",
   "id": "ad65ca8a",
   "metadata": {},
   "source": [
    "We load the snapshots and the totals."
   ]
  },
  {
   "cell_type": "code",
   "execution_count": 3,
   "id": "7cf6cd75",
   "metadata": {},
   "outputs": [],
   "source": [
    "arxiv_snapshots = pd.read_parquet('../data/arxiv-snapshots.parquet')\n",
    "arxiv_totals = pd.read_parquet('../data/arxiv-totals.parquet')"
   ]
  }
 ],
 "metadata": {
  "kernelspec": {
   "display_name": "Python 3",
   "language": "python",
   "name": "python3"
  },
  "language_info": {
   "codemirror_mode": {
    "name": "ipython",
    "version": 3
   },
   "file_extension": ".py",
   "mimetype": "text/x-python",
   "name": "python",
   "nbconvert_exporter": "python",
   "pygments_lexer": "ipython3",
   "version": "3.11.8"
  }
 },
 "nbformat": 4,
 "nbformat_minor": 5
}
